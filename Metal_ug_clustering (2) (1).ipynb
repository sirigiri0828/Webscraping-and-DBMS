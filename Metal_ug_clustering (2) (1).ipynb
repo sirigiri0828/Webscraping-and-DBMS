{
 "cells": [
  {
   "cell_type": "code",
   "execution_count": 1,
   "id": "119a6f41",
   "metadata": {},
   "outputs": [],
   "source": [
    "import pandas as pd\n",
    "import numpy as np\n",
    "\n",
    "df_ug_metal = pd.read_csv(r\"C:\\Users\\dharm\\OneDrive\\Desktop\\Table_metal_ug.csv\",low_memory = False)"
   ]
  },
  {
   "cell_type": "code",
   "execution_count": 2,
   "id": "ba14f95b",
   "metadata": {},
   "outputs": [],
   "source": [
    "Table_1  = df_ug_metal [[\"MINE_ID\",\"AVG_ANNUAL_EMPL\",\"ANNUAL_HRS\",\"Citation\",\"No. S&S\",\"Order\",\"TOTAL_INSP_HOURS\",\"FATALITY\",\"NO_AFFECTED\",\"PROPOSED_PENALTY\"]].reset_index(drop=True)"
   ]
  },
  {
   "cell_type": "code",
   "execution_count": 3,
   "id": "39b81294",
   "metadata": {},
   "outputs": [],
   "source": [
    "# Table_1  = df_ug_metal [[\"MINE_ID\",\"AVG_ANNUAL_EMPL\",\"ANNUAL_HRS\",\"Citation\",\"No. S&S\",\"Order\",\"TOTAL_INSP_HOURS\",\"NO_AFFECTED\",\"PROPOSED_PENALTY\"]].reset_index(drop=True)"
   ]
  },
  {
   "cell_type": "code",
   "execution_count": 4,
   "id": "6a8ab277",
   "metadata": {},
   "outputs": [
    {
     "name": "stdout",
     "output_type": "stream",
     "text": [
      "<class 'pandas.core.frame.DataFrame'>\n",
      "RangeIndex: 98 entries, 0 to 97\n",
      "Data columns (total 10 columns):\n",
      " #   Column            Non-Null Count  Dtype  \n",
      "---  ------            --------------  -----  \n",
      " 0   MINE_ID           98 non-null     float64\n",
      " 1   AVG_ANNUAL_EMPL   93 non-null     float64\n",
      " 2   ANNUAL_HRS        93 non-null     float64\n",
      " 3   Citation          98 non-null     float64\n",
      " 4   No. S&S           98 non-null     float64\n",
      " 5   Order             98 non-null     float64\n",
      " 6   TOTAL_INSP_HOURS  34 non-null     float64\n",
      " 7   FATALITY          45 non-null     float64\n",
      " 8   NO_AFFECTED       98 non-null     float64\n",
      " 9   PROPOSED_PENALTY  98 non-null     float64\n",
      "dtypes: float64(10)\n",
      "memory usage: 7.8 KB\n"
     ]
    }
   ],
   "source": [
    "Table_1.info()"
   ]
  },
  {
   "cell_type": "code",
   "execution_count": 5,
   "id": "78ab781d",
   "metadata": {},
   "outputs": [],
   "source": [
    "Table_1 [\"No. NLT Accidents\"]  = df_ug_metal[\"ACCIDENT ONLY\"] + df_ug_metal[\"NO DYS AWY FRM WRK,NO RSTR ACT\"]\n",
    "Table_1 [\"No. LT Accidents\"]  = df_ug_metal[\"PERM TOT OR PERM PRTL DISABLTY\"] + df_ug_metal[\"DAYS AWAY FROM WORK ONLY\"] + df_ug_metal[\"DYS AWY FRM WRK & RESTRCTD ACT\"]\n",
    "Table_1 [\"Restricted and lost work days\"] = df_ug_metal[\"DAYS_RESTRICT\"] + df_ug_metal[\"DAYS_LOST\"]"
   ]
  },
  {
   "cell_type": "code",
   "execution_count": 6,
   "id": "567b5453",
   "metadata": {},
   "outputs": [
    {
     "data": {
      "text/html": [
       "<div>\n",
       "<style scoped>\n",
       "    .dataframe tbody tr th:only-of-type {\n",
       "        vertical-align: middle;\n",
       "    }\n",
       "\n",
       "    .dataframe tbody tr th {\n",
       "        vertical-align: top;\n",
       "    }\n",
       "\n",
       "    .dataframe thead th {\n",
       "        text-align: right;\n",
       "    }\n",
       "</style>\n",
       "<table border=\"1\" class=\"dataframe\">\n",
       "  <thead>\n",
       "    <tr style=\"text-align: right;\">\n",
       "      <th></th>\n",
       "      <th>MINE_ID</th>\n",
       "      <th>AVG_ANNUAL_EMPL</th>\n",
       "      <th>ANNUAL_HRS</th>\n",
       "      <th>Citation</th>\n",
       "      <th>No. S&amp;S</th>\n",
       "      <th>Order</th>\n",
       "      <th>TOTAL_INSP_HOURS</th>\n",
       "      <th>FATALITY</th>\n",
       "      <th>NO_AFFECTED</th>\n",
       "      <th>PROPOSED_PENALTY</th>\n",
       "      <th>No. NLT Accidents</th>\n",
       "      <th>No. LT Accidents</th>\n",
       "      <th>Restricted and lost work days</th>\n",
       "    </tr>\n",
       "  </thead>\n",
       "  <tbody>\n",
       "    <tr>\n",
       "      <th>0</th>\n",
       "      <td>200152.0</td>\n",
       "      <td>107.0</td>\n",
       "      <td>193025.0</td>\n",
       "      <td>2.0</td>\n",
       "      <td>0.0</td>\n",
       "      <td>0.0</td>\n",
       "      <td>NaN</td>\n",
       "      <td>NaN</td>\n",
       "      <td>2.0</td>\n",
       "      <td>200.0</td>\n",
       "      <td>NaN</td>\n",
       "      <td>NaN</td>\n",
       "      <td>NaN</td>\n",
       "    </tr>\n",
       "    <tr>\n",
       "      <th>1</th>\n",
       "      <td>200840.0</td>\n",
       "      <td>18.0</td>\n",
       "      <td>16515.0</td>\n",
       "      <td>4.0</td>\n",
       "      <td>0.0</td>\n",
       "      <td>0.0</td>\n",
       "      <td>NaN</td>\n",
       "      <td>NaN</td>\n",
       "      <td>4.0</td>\n",
       "      <td>400.0</td>\n",
       "      <td>NaN</td>\n",
       "      <td>NaN</td>\n",
       "      <td>NaN</td>\n",
       "    </tr>\n",
       "    <tr>\n",
       "      <th>2</th>\n",
       "      <td>202286.0</td>\n",
       "      <td>24.0</td>\n",
       "      <td>39711.0</td>\n",
       "      <td>21.0</td>\n",
       "      <td>7.0</td>\n",
       "      <td>0.0</td>\n",
       "      <td>13.25</td>\n",
       "      <td>0.0</td>\n",
       "      <td>25.0</td>\n",
       "      <td>24692.0</td>\n",
       "      <td>1.0</td>\n",
       "      <td>1.0</td>\n",
       "      <td>8.0</td>\n",
       "    </tr>\n",
       "    <tr>\n",
       "      <th>3</th>\n",
       "      <td>202443.0</td>\n",
       "      <td>35.0</td>\n",
       "      <td>55252.0</td>\n",
       "      <td>8.0</td>\n",
       "      <td>1.0</td>\n",
       "      <td>0.0</td>\n",
       "      <td>NaN</td>\n",
       "      <td>0.0</td>\n",
       "      <td>10.0</td>\n",
       "      <td>4564.0</td>\n",
       "      <td>1.0</td>\n",
       "      <td>0.0</td>\n",
       "      <td>0.0</td>\n",
       "    </tr>\n",
       "    <tr>\n",
       "      <th>4</th>\n",
       "      <td>202620.0</td>\n",
       "      <td>103.0</td>\n",
       "      <td>196996.0</td>\n",
       "      <td>48.0</td>\n",
       "      <td>14.0</td>\n",
       "      <td>0.0</td>\n",
       "      <td>7.00</td>\n",
       "      <td>0.0</td>\n",
       "      <td>52.0</td>\n",
       "      <td>40200.0</td>\n",
       "      <td>2.0</td>\n",
       "      <td>2.0</td>\n",
       "      <td>348.0</td>\n",
       "    </tr>\n",
       "    <tr>\n",
       "      <th>...</th>\n",
       "      <td>...</td>\n",
       "      <td>...</td>\n",
       "      <td>...</td>\n",
       "      <td>...</td>\n",
       "      <td>...</td>\n",
       "      <td>...</td>\n",
       "      <td>...</td>\n",
       "      <td>...</td>\n",
       "      <td>...</td>\n",
       "      <td>...</td>\n",
       "      <td>...</td>\n",
       "      <td>...</td>\n",
       "      <td>...</td>\n",
       "    </tr>\n",
       "    <tr>\n",
       "      <th>93</th>\n",
       "      <td>5001267.0</td>\n",
       "      <td>383.0</td>\n",
       "      <td>941510.0</td>\n",
       "      <td>106.0</td>\n",
       "      <td>34.0</td>\n",
       "      <td>3.0</td>\n",
       "      <td>NaN</td>\n",
       "      <td>0.0</td>\n",
       "      <td>109.0</td>\n",
       "      <td>89952.0</td>\n",
       "      <td>4.0</td>\n",
       "      <td>4.0</td>\n",
       "      <td>87.0</td>\n",
       "    </tr>\n",
       "    <tr>\n",
       "      <th>94</th>\n",
       "      <td>5001544.0</td>\n",
       "      <td>300.0</td>\n",
       "      <td>716026.0</td>\n",
       "      <td>93.0</td>\n",
       "      <td>28.0</td>\n",
       "      <td>3.0</td>\n",
       "      <td>241.50</td>\n",
       "      <td>0.0</td>\n",
       "      <td>187.0</td>\n",
       "      <td>59549.0</td>\n",
       "      <td>0.0</td>\n",
       "      <td>11.0</td>\n",
       "      <td>529.0</td>\n",
       "    </tr>\n",
       "    <tr>\n",
       "      <th>95</th>\n",
       "      <td>5001614.0</td>\n",
       "      <td>8.0</td>\n",
       "      <td>182.0</td>\n",
       "      <td>1.0</td>\n",
       "      <td>0.0</td>\n",
       "      <td>0.0</td>\n",
       "      <td>NaN</td>\n",
       "      <td>NaN</td>\n",
       "      <td>1.0</td>\n",
       "      <td>100.0</td>\n",
       "      <td>NaN</td>\n",
       "      <td>NaN</td>\n",
       "      <td>NaN</td>\n",
       "    </tr>\n",
       "    <tr>\n",
       "      <th>96</th>\n",
       "      <td>5001642.0</td>\n",
       "      <td>329.0</td>\n",
       "      <td>762317.0</td>\n",
       "      <td>59.0</td>\n",
       "      <td>9.0</td>\n",
       "      <td>2.0</td>\n",
       "      <td>NaN</td>\n",
       "      <td>0.0</td>\n",
       "      <td>84.0</td>\n",
       "      <td>53695.0</td>\n",
       "      <td>10.0</td>\n",
       "      <td>4.0</td>\n",
       "      <td>561.0</td>\n",
       "    </tr>\n",
       "    <tr>\n",
       "      <th>97</th>\n",
       "      <td>5001857.0</td>\n",
       "      <td>16.0</td>\n",
       "      <td>27000.0</td>\n",
       "      <td>7.0</td>\n",
       "      <td>1.0</td>\n",
       "      <td>0.0</td>\n",
       "      <td>NaN</td>\n",
       "      <td>NaN</td>\n",
       "      <td>7.0</td>\n",
       "      <td>717.0</td>\n",
       "      <td>NaN</td>\n",
       "      <td>NaN</td>\n",
       "      <td>NaN</td>\n",
       "    </tr>\n",
       "  </tbody>\n",
       "</table>\n",
       "<p>98 rows × 13 columns</p>\n",
       "</div>"
      ],
      "text/plain": [
       "      MINE_ID  AVG_ANNUAL_EMPL  ANNUAL_HRS  Citation  No. S&S  Order  \\\n",
       "0    200152.0            107.0    193025.0       2.0      0.0    0.0   \n",
       "1    200840.0             18.0     16515.0       4.0      0.0    0.0   \n",
       "2    202286.0             24.0     39711.0      21.0      7.0    0.0   \n",
       "3    202443.0             35.0     55252.0       8.0      1.0    0.0   \n",
       "4    202620.0            103.0    196996.0      48.0     14.0    0.0   \n",
       "..        ...              ...         ...       ...      ...    ...   \n",
       "93  5001267.0            383.0    941510.0     106.0     34.0    3.0   \n",
       "94  5001544.0            300.0    716026.0      93.0     28.0    3.0   \n",
       "95  5001614.0              8.0       182.0       1.0      0.0    0.0   \n",
       "96  5001642.0            329.0    762317.0      59.0      9.0    2.0   \n",
       "97  5001857.0             16.0     27000.0       7.0      1.0    0.0   \n",
       "\n",
       "    TOTAL_INSP_HOURS  FATALITY  NO_AFFECTED  PROPOSED_PENALTY  \\\n",
       "0                NaN       NaN          2.0             200.0   \n",
       "1                NaN       NaN          4.0             400.0   \n",
       "2              13.25       0.0         25.0           24692.0   \n",
       "3                NaN       0.0         10.0            4564.0   \n",
       "4               7.00       0.0         52.0           40200.0   \n",
       "..               ...       ...          ...               ...   \n",
       "93               NaN       0.0        109.0           89952.0   \n",
       "94            241.50       0.0        187.0           59549.0   \n",
       "95               NaN       NaN          1.0             100.0   \n",
       "96               NaN       0.0         84.0           53695.0   \n",
       "97               NaN       NaN          7.0             717.0   \n",
       "\n",
       "    No. NLT Accidents  No. LT Accidents  Restricted and lost work days  \n",
       "0                 NaN               NaN                            NaN  \n",
       "1                 NaN               NaN                            NaN  \n",
       "2                 1.0               1.0                            8.0  \n",
       "3                 1.0               0.0                            0.0  \n",
       "4                 2.0               2.0                          348.0  \n",
       "..                ...               ...                            ...  \n",
       "93                4.0               4.0                           87.0  \n",
       "94                0.0              11.0                          529.0  \n",
       "95                NaN               NaN                            NaN  \n",
       "96               10.0               4.0                          561.0  \n",
       "97                NaN               NaN                            NaN  \n",
       "\n",
       "[98 rows x 13 columns]"
      ]
     },
     "execution_count": 6,
     "metadata": {},
     "output_type": "execute_result"
    }
   ],
   "source": [
    "Table_1"
   ]
  },
  {
   "cell_type": "code",
   "execution_count": 7,
   "id": "f212e34e",
   "metadata": {},
   "outputs": [],
   "source": [
    "# Table_1.to_csv(r\"C:\\Users\\dharm\\OneDrive\\Desktop\\checking_table1.csv\")"
   ]
  },
  {
   "cell_type": "code",
   "execution_count": 8,
   "id": "1f0a2e79",
   "metadata": {},
   "outputs": [],
   "source": [
    "Table_2 = pd.DataFrame()\n",
    "\n",
    "Table_2 = Table_1[[\"MINE_ID\"]].reset_index(drop = True)\n",
    "\n",
    "# Table_2[\"NO_AFFECTED\"] =   (Table_1[\"NO_AFFECTED\"]  / Table_1[\"ANNUAL_HRS\"]) *200000\n",
    "\n",
    "Table_2[\"PROPOSED_PENALTY\"] = (Table_1[\"PROPOSED_PENALTY\"])\n",
    "\n",
    "Table_2[\"NDL_IR\"] = (Table_1[\"No. NLT Accidents\"] / Table_1[\"ANNUAL_HRS\"]) *200000\n",
    "\n",
    "Table_2[\"NFDL_IR\"]=   (Table_1[\"No. LT Accidents\"] / Table_1[\"ANNUAL_HRS\"]) *200000\n",
    "\n",
    "Table_2[\"SM\"] =   (Table_1[\"Restricted and lost work days\"] / Table_1[\"ANNUAL_HRS\"]) *200000\n",
    "\n",
    "Table_2[\"C/100\"] = (Table_1[\"Citation\"] * 100)/ Table_1[\"TOTAL_INSP_HOURS\"]\n",
    "\n",
    "Table_2[\"SS/100\"] = (Table_1[\"No. S&S\"] * 100)/ Table_1[\"TOTAL_INSP_HOURS\"]\n",
    "\n",
    "Table_2[\"O/100\"] = (Table_1[\"Order\"] * 100)/ Table_1[\"TOTAL_INSP_HOURS\"]\n",
    "\n",
    "\n"
   ]
  },
  {
   "cell_type": "code",
   "execution_count": 9,
   "id": "32056c12",
   "metadata": {},
   "outputs": [
    {
     "data": {
      "text/html": [
       "<div>\n",
       "<style scoped>\n",
       "    .dataframe tbody tr th:only-of-type {\n",
       "        vertical-align: middle;\n",
       "    }\n",
       "\n",
       "    .dataframe tbody tr th {\n",
       "        vertical-align: top;\n",
       "    }\n",
       "\n",
       "    .dataframe thead th {\n",
       "        text-align: right;\n",
       "    }\n",
       "</style>\n",
       "<table border=\"1\" class=\"dataframe\">\n",
       "  <thead>\n",
       "    <tr style=\"text-align: right;\">\n",
       "      <th></th>\n",
       "      <th>MINE_ID</th>\n",
       "      <th>PROPOSED_PENALTY</th>\n",
       "      <th>NDL_IR</th>\n",
       "      <th>NFDL_IR</th>\n",
       "      <th>SM</th>\n",
       "      <th>C/100</th>\n",
       "      <th>SS/100</th>\n",
       "      <th>O/100</th>\n",
       "    </tr>\n",
       "  </thead>\n",
       "  <tbody>\n",
       "    <tr>\n",
       "      <th>count</th>\n",
       "      <td>9.800000e+01</td>\n",
       "      <td>98.000000</td>\n",
       "      <td>45.000000</td>\n",
       "      <td>45.000000</td>\n",
       "      <td>42.000000</td>\n",
       "      <td>34.000000</td>\n",
       "      <td>34.000000</td>\n",
       "      <td>34.000000</td>\n",
       "    </tr>\n",
       "    <tr>\n",
       "      <th>mean</th>\n",
       "      <td>2.148202e+06</td>\n",
       "      <td>26773.948980</td>\n",
       "      <td>2.409028</td>\n",
       "      <td>1.673767</td>\n",
       "      <td>168.562363</td>\n",
       "      <td>201.477924</td>\n",
       "      <td>53.934145</td>\n",
       "      <td>8.785729</td>\n",
       "    </tr>\n",
       "    <tr>\n",
       "      <th>std</th>\n",
       "      <td>1.460625e+06</td>\n",
       "      <td>69471.689767</td>\n",
       "      <td>2.611833</td>\n",
       "      <td>2.659986</td>\n",
       "      <td>239.065562</td>\n",
       "      <td>342.356113</td>\n",
       "      <td>91.887984</td>\n",
       "      <td>21.102974</td>\n",
       "    </tr>\n",
       "    <tr>\n",
       "      <th>min</th>\n",
       "      <td>2.001520e+05</td>\n",
       "      <td>100.000000</td>\n",
       "      <td>0.000000</td>\n",
       "      <td>0.000000</td>\n",
       "      <td>0.000000</td>\n",
       "      <td>6.382979</td>\n",
       "      <td>0.000000</td>\n",
       "      <td>0.000000</td>\n",
       "    </tr>\n",
       "    <tr>\n",
       "      <th>25%</th>\n",
       "      <td>5.048870e+05</td>\n",
       "      <td>349.750000</td>\n",
       "      <td>0.624688</td>\n",
       "      <td>0.000000</td>\n",
       "      <td>20.031172</td>\n",
       "      <td>22.878160</td>\n",
       "      <td>5.375940</td>\n",
       "      <td>0.000000</td>\n",
       "    </tr>\n",
       "    <tr>\n",
       "      <th>50%</th>\n",
       "      <td>2.402139e+06</td>\n",
       "      <td>1734.500000</td>\n",
       "      <td>1.727187</td>\n",
       "      <td>0.794829</td>\n",
       "      <td>89.695413</td>\n",
       "      <td>44.035727</td>\n",
       "      <td>11.574268</td>\n",
       "      <td>0.454201</td>\n",
       "    </tr>\n",
       "    <tr>\n",
       "      <th>75%</th>\n",
       "      <td>2.602692e+06</td>\n",
       "      <td>22793.000000</td>\n",
       "      <td>2.866069</td>\n",
       "      <td>2.030498</td>\n",
       "      <td>199.400073</td>\n",
       "      <td>155.747357</td>\n",
       "      <td>54.116638</td>\n",
       "      <td>3.872180</td>\n",
       "    </tr>\n",
       "    <tr>\n",
       "      <th>max</th>\n",
       "      <td>5.001857e+06</td>\n",
       "      <td>522429.000000</td>\n",
       "      <td>11.985138</td>\n",
       "      <td>12.030075</td>\n",
       "      <td>1117.706350</td>\n",
       "      <td>1320.000000</td>\n",
       "      <td>371.428571</td>\n",
       "      <td>94.117647</td>\n",
       "    </tr>\n",
       "  </tbody>\n",
       "</table>\n",
       "</div>"
      ],
      "text/plain": [
       "            MINE_ID  PROPOSED_PENALTY     NDL_IR    NFDL_IR           SM  \\\n",
       "count  9.800000e+01         98.000000  45.000000  45.000000    42.000000   \n",
       "mean   2.148202e+06      26773.948980   2.409028   1.673767   168.562363   \n",
       "std    1.460625e+06      69471.689767   2.611833   2.659986   239.065562   \n",
       "min    2.001520e+05        100.000000   0.000000   0.000000     0.000000   \n",
       "25%    5.048870e+05        349.750000   0.624688   0.000000    20.031172   \n",
       "50%    2.402139e+06       1734.500000   1.727187   0.794829    89.695413   \n",
       "75%    2.602692e+06      22793.000000   2.866069   2.030498   199.400073   \n",
       "max    5.001857e+06     522429.000000  11.985138  12.030075  1117.706350   \n",
       "\n",
       "             C/100      SS/100      O/100  \n",
       "count    34.000000   34.000000  34.000000  \n",
       "mean    201.477924   53.934145   8.785729  \n",
       "std     342.356113   91.887984  21.102974  \n",
       "min       6.382979    0.000000   0.000000  \n",
       "25%      22.878160    5.375940   0.000000  \n",
       "50%      44.035727   11.574268   0.454201  \n",
       "75%     155.747357   54.116638   3.872180  \n",
       "max    1320.000000  371.428571  94.117647  "
      ]
     },
     "execution_count": 9,
     "metadata": {},
     "output_type": "execute_result"
    }
   ],
   "source": [
    "Table_2.describe()"
   ]
  },
  {
   "cell_type": "code",
   "execution_count": 10,
   "id": "5ffce4e2",
   "metadata": {},
   "outputs": [],
   "source": [
    "Table_2 = Table_2.set_index([\"MINE_ID\"])"
   ]
  },
  {
   "cell_type": "code",
   "execution_count": 11,
   "id": "12e28974",
   "metadata": {},
   "outputs": [],
   "source": [
    "Table_2 = Table_2.fillna(0)"
   ]
  },
  {
   "cell_type": "code",
   "execution_count": 12,
   "id": "8c4a5200",
   "metadata": {},
   "outputs": [
    {
     "data": {
      "text/html": [
       "<div>\n",
       "<style scoped>\n",
       "    .dataframe tbody tr th:only-of-type {\n",
       "        vertical-align: middle;\n",
       "    }\n",
       "\n",
       "    .dataframe tbody tr th {\n",
       "        vertical-align: top;\n",
       "    }\n",
       "\n",
       "    .dataframe thead th {\n",
       "        text-align: right;\n",
       "    }\n",
       "</style>\n",
       "<table border=\"1\" class=\"dataframe\">\n",
       "  <thead>\n",
       "    <tr style=\"text-align: right;\">\n",
       "      <th></th>\n",
       "      <th>PROPOSED_PENALTY</th>\n",
       "      <th>NDL_IR</th>\n",
       "      <th>NFDL_IR</th>\n",
       "      <th>SM</th>\n",
       "      <th>C/100</th>\n",
       "      <th>SS/100</th>\n",
       "      <th>O/100</th>\n",
       "    </tr>\n",
       "    <tr>\n",
       "      <th>MINE_ID</th>\n",
       "      <th></th>\n",
       "      <th></th>\n",
       "      <th></th>\n",
       "      <th></th>\n",
       "      <th></th>\n",
       "      <th></th>\n",
       "      <th></th>\n",
       "    </tr>\n",
       "  </thead>\n",
       "  <tbody>\n",
       "    <tr>\n",
       "      <th>200152.0</th>\n",
       "      <td>200.0</td>\n",
       "      <td>0.000000</td>\n",
       "      <td>0.000000</td>\n",
       "      <td>0.000000</td>\n",
       "      <td>0.000000</td>\n",
       "      <td>0.000000</td>\n",
       "      <td>0.000000</td>\n",
       "    </tr>\n",
       "    <tr>\n",
       "      <th>200840.0</th>\n",
       "      <td>400.0</td>\n",
       "      <td>0.000000</td>\n",
       "      <td>0.000000</td>\n",
       "      <td>0.000000</td>\n",
       "      <td>0.000000</td>\n",
       "      <td>0.000000</td>\n",
       "      <td>0.000000</td>\n",
       "    </tr>\n",
       "    <tr>\n",
       "      <th>202286.0</th>\n",
       "      <td>24692.0</td>\n",
       "      <td>5.036388</td>\n",
       "      <td>5.036388</td>\n",
       "      <td>40.291103</td>\n",
       "      <td>158.490566</td>\n",
       "      <td>52.830189</td>\n",
       "      <td>0.000000</td>\n",
       "    </tr>\n",
       "    <tr>\n",
       "      <th>202443.0</th>\n",
       "      <td>4564.0</td>\n",
       "      <td>3.619778</td>\n",
       "      <td>0.000000</td>\n",
       "      <td>0.000000</td>\n",
       "      <td>0.000000</td>\n",
       "      <td>0.000000</td>\n",
       "      <td>0.000000</td>\n",
       "    </tr>\n",
       "    <tr>\n",
       "      <th>202620.0</th>\n",
       "      <td>40200.0</td>\n",
       "      <td>2.030498</td>\n",
       "      <td>2.030498</td>\n",
       "      <td>353.306666</td>\n",
       "      <td>685.714286</td>\n",
       "      <td>200.000000</td>\n",
       "      <td>0.000000</td>\n",
       "    </tr>\n",
       "    <tr>\n",
       "      <th>...</th>\n",
       "      <td>...</td>\n",
       "      <td>...</td>\n",
       "      <td>...</td>\n",
       "      <td>...</td>\n",
       "      <td>...</td>\n",
       "      <td>...</td>\n",
       "      <td>...</td>\n",
       "    </tr>\n",
       "    <tr>\n",
       "      <th>5001267.0</th>\n",
       "      <td>89952.0</td>\n",
       "      <td>0.849699</td>\n",
       "      <td>0.849699</td>\n",
       "      <td>18.480951</td>\n",
       "      <td>0.000000</td>\n",
       "      <td>0.000000</td>\n",
       "      <td>0.000000</td>\n",
       "    </tr>\n",
       "    <tr>\n",
       "      <th>5001544.0</th>\n",
       "      <td>59549.0</td>\n",
       "      <td>0.000000</td>\n",
       "      <td>3.072514</td>\n",
       "      <td>147.759998</td>\n",
       "      <td>38.509317</td>\n",
       "      <td>11.594203</td>\n",
       "      <td>1.242236</td>\n",
       "    </tr>\n",
       "    <tr>\n",
       "      <th>5001614.0</th>\n",
       "      <td>100.0</td>\n",
       "      <td>0.000000</td>\n",
       "      <td>0.000000</td>\n",
       "      <td>0.000000</td>\n",
       "      <td>0.000000</td>\n",
       "      <td>0.000000</td>\n",
       "      <td>0.000000</td>\n",
       "    </tr>\n",
       "    <tr>\n",
       "      <th>5001642.0</th>\n",
       "      <td>53695.0</td>\n",
       "      <td>2.623580</td>\n",
       "      <td>1.049432</td>\n",
       "      <td>147.182865</td>\n",
       "      <td>0.000000</td>\n",
       "      <td>0.000000</td>\n",
       "      <td>0.000000</td>\n",
       "    </tr>\n",
       "    <tr>\n",
       "      <th>5001857.0</th>\n",
       "      <td>717.0</td>\n",
       "      <td>0.000000</td>\n",
       "      <td>0.000000</td>\n",
       "      <td>0.000000</td>\n",
       "      <td>0.000000</td>\n",
       "      <td>0.000000</td>\n",
       "      <td>0.000000</td>\n",
       "    </tr>\n",
       "  </tbody>\n",
       "</table>\n",
       "<p>98 rows × 7 columns</p>\n",
       "</div>"
      ],
      "text/plain": [
       "           PROPOSED_PENALTY    NDL_IR   NFDL_IR          SM       C/100  \\\n",
       "MINE_ID                                                                   \n",
       "200152.0              200.0  0.000000  0.000000    0.000000    0.000000   \n",
       "200840.0              400.0  0.000000  0.000000    0.000000    0.000000   \n",
       "202286.0            24692.0  5.036388  5.036388   40.291103  158.490566   \n",
       "202443.0             4564.0  3.619778  0.000000    0.000000    0.000000   \n",
       "202620.0            40200.0  2.030498  2.030498  353.306666  685.714286   \n",
       "...                     ...       ...       ...         ...         ...   \n",
       "5001267.0           89952.0  0.849699  0.849699   18.480951    0.000000   \n",
       "5001544.0           59549.0  0.000000  3.072514  147.759998   38.509317   \n",
       "5001614.0             100.0  0.000000  0.000000    0.000000    0.000000   \n",
       "5001642.0           53695.0  2.623580  1.049432  147.182865    0.000000   \n",
       "5001857.0             717.0  0.000000  0.000000    0.000000    0.000000   \n",
       "\n",
       "               SS/100     O/100  \n",
       "MINE_ID                          \n",
       "200152.0     0.000000  0.000000  \n",
       "200840.0     0.000000  0.000000  \n",
       "202286.0    52.830189  0.000000  \n",
       "202443.0     0.000000  0.000000  \n",
       "202620.0   200.000000  0.000000  \n",
       "...               ...       ...  \n",
       "5001267.0    0.000000  0.000000  \n",
       "5001544.0   11.594203  1.242236  \n",
       "5001614.0    0.000000  0.000000  \n",
       "5001642.0    0.000000  0.000000  \n",
       "5001857.0    0.000000  0.000000  \n",
       "\n",
       "[98 rows x 7 columns]"
      ]
     },
     "execution_count": 12,
     "metadata": {},
     "output_type": "execute_result"
    }
   ],
   "source": [
    "Table_2"
   ]
  },
  {
   "cell_type": "code",
   "execution_count": 13,
   "id": "adce5eb4",
   "metadata": {},
   "outputs": [],
   "source": [
    "df = Table_2.copy()"
   ]
  },
  {
   "cell_type": "code",
   "execution_count": 14,
   "id": "732c9fb2",
   "metadata": {},
   "outputs": [],
   "source": [
    "# df = np.nan_to_num(df)"
   ]
  },
  {
   "cell_type": "code",
   "execution_count": 15,
   "id": "344324ae",
   "metadata": {},
   "outputs": [],
   "source": [
    "# df = df.replace([np.inf, -np.inf], 0) "
   ]
  },
  {
   "cell_type": "code",
   "execution_count": 16,
   "id": "592313f8",
   "metadata": {},
   "outputs": [],
   "source": [
    "# from sklearn.preprocessing import StandardScaler, normalize\n",
    "# scaler = StandardScaler()\n",
    "# X_scaled = scaler.fit_transform(df)\n",
    "  \n",
    "# # Normalizing the data so that the data approximately \n",
    "# # follows a Gaussian distribution\n",
    "# X_normalized = normalize(X_scaled)\n",
    "  \n",
    "# # Converting the numpy array into a pandas DataFrame\n",
    "# df = pd.DataFrame(X_normalized)"
   ]
  },
  {
   "cell_type": "code",
   "execution_count": 17,
   "id": "9d1320bb",
   "metadata": {},
   "outputs": [],
   "source": [
    "# df.describe()"
   ]
  },
  {
   "cell_type": "code",
   "execution_count": 18,
   "id": "489bd72e",
   "metadata": {},
   "outputs": [],
   "source": [
    "import pandas as pd\n",
    "import numpy as np\n",
    "from sklearn import preprocessing\n",
    "\n",
    "df = df.replace((np.inf, -np.inf, np.nan), 0).reset_index(drop=True)\n",
    "\n",
    "x = df.values\n",
    "min_max_scaler = preprocessing.MinMaxScaler()\n",
    "x_scaled = min_max_scaler.fit_transform(x)\n",
    "df = pd.DataFrame(x_scaled)"
   ]
  },
  {
   "cell_type": "code",
   "execution_count": 19,
   "id": "c1d36cd0",
   "metadata": {},
   "outputs": [],
   "source": [
    "def scale_data(data, columns, scaler):\n",
    "    for col in columns:\n",
    "        data[col] = scaler.fit_transform(data[col].values.reshape(-1, 1))\n",
    "    return data"
   ]
  },
  {
   "cell_type": "code",
   "execution_count": 20,
   "id": "ff22e0e6",
   "metadata": {},
   "outputs": [
    {
     "data": {
      "text/html": [
       "<div>\n",
       "<style scoped>\n",
       "    .dataframe tbody tr th:only-of-type {\n",
       "        vertical-align: middle;\n",
       "    }\n",
       "\n",
       "    .dataframe tbody tr th {\n",
       "        vertical-align: top;\n",
       "    }\n",
       "\n",
       "    .dataframe thead th {\n",
       "        text-align: right;\n",
       "    }\n",
       "</style>\n",
       "<table border=\"1\" class=\"dataframe\">\n",
       "  <thead>\n",
       "    <tr style=\"text-align: right;\">\n",
       "      <th></th>\n",
       "      <th>0</th>\n",
       "      <th>1</th>\n",
       "      <th>2</th>\n",
       "      <th>3</th>\n",
       "      <th>4</th>\n",
       "      <th>5</th>\n",
       "      <th>6</th>\n",
       "    </tr>\n",
       "  </thead>\n",
       "  <tbody>\n",
       "    <tr>\n",
       "      <th>count</th>\n",
       "      <td>98.000000</td>\n",
       "      <td>98.000000</td>\n",
       "      <td>98.000000</td>\n",
       "      <td>98.000000</td>\n",
       "      <td>98.000000</td>\n",
       "      <td>98.000000</td>\n",
       "      <td>98.000000</td>\n",
       "    </tr>\n",
       "    <tr>\n",
       "      <th>mean</th>\n",
       "      <td>0.051067</td>\n",
       "      <td>0.092297</td>\n",
       "      <td>0.063887</td>\n",
       "      <td>0.064633</td>\n",
       "      <td>0.052955</td>\n",
       "      <td>0.050378</td>\n",
       "      <td>0.032386</td>\n",
       "    </tr>\n",
       "    <tr>\n",
       "      <th>std</th>\n",
       "      <td>0.133004</td>\n",
       "      <td>0.177984</td>\n",
       "      <td>0.164419</td>\n",
       "      <td>0.158001</td>\n",
       "      <td>0.167982</td>\n",
       "      <td>0.160150</td>\n",
       "      <td>0.138197</td>\n",
       "    </tr>\n",
       "    <tr>\n",
       "      <th>min</th>\n",
       "      <td>0.000000</td>\n",
       "      <td>0.000000</td>\n",
       "      <td>0.000000</td>\n",
       "      <td>0.000000</td>\n",
       "      <td>0.000000</td>\n",
       "      <td>0.000000</td>\n",
       "      <td>0.000000</td>\n",
       "    </tr>\n",
       "    <tr>\n",
       "      <th>25%</th>\n",
       "      <td>0.000478</td>\n",
       "      <td>0.000000</td>\n",
       "      <td>0.000000</td>\n",
       "      <td>0.000000</td>\n",
       "      <td>0.000000</td>\n",
       "      <td>0.000000</td>\n",
       "      <td>0.000000</td>\n",
       "    </tr>\n",
       "    <tr>\n",
       "      <th>50%</th>\n",
       "      <td>0.003129</td>\n",
       "      <td>0.000000</td>\n",
       "      <td>0.000000</td>\n",
       "      <td>0.000000</td>\n",
       "      <td>0.000000</td>\n",
       "      <td>0.000000</td>\n",
       "      <td>0.000000</td>\n",
       "    </tr>\n",
       "    <tr>\n",
       "      <th>75%</th>\n",
       "      <td>0.043446</td>\n",
       "      <td>0.126299</td>\n",
       "      <td>0.058254</td>\n",
       "      <td>0.035536</td>\n",
       "      <td>0.018503</td>\n",
       "      <td>0.015081</td>\n",
       "      <td>0.000000</td>\n",
       "    </tr>\n",
       "    <tr>\n",
       "      <th>max</th>\n",
       "      <td>1.000000</td>\n",
       "      <td>1.000000</td>\n",
       "      <td>1.000000</td>\n",
       "      <td>1.000000</td>\n",
       "      <td>1.000000</td>\n",
       "      <td>1.000000</td>\n",
       "      <td>1.000000</td>\n",
       "    </tr>\n",
       "  </tbody>\n",
       "</table>\n",
       "</div>"
      ],
      "text/plain": [
       "               0          1          2          3          4          5  \\\n",
       "count  98.000000  98.000000  98.000000  98.000000  98.000000  98.000000   \n",
       "mean    0.051067   0.092297   0.063887   0.064633   0.052955   0.050378   \n",
       "std     0.133004   0.177984   0.164419   0.158001   0.167982   0.160150   \n",
       "min     0.000000   0.000000   0.000000   0.000000   0.000000   0.000000   \n",
       "25%     0.000478   0.000000   0.000000   0.000000   0.000000   0.000000   \n",
       "50%     0.003129   0.000000   0.000000   0.000000   0.000000   0.000000   \n",
       "75%     0.043446   0.126299   0.058254   0.035536   0.018503   0.015081   \n",
       "max     1.000000   1.000000   1.000000   1.000000   1.000000   1.000000   \n",
       "\n",
       "               6  \n",
       "count  98.000000  \n",
       "mean    0.032386  \n",
       "std     0.138197  \n",
       "min     0.000000  \n",
       "25%     0.000000  \n",
       "50%     0.000000  \n",
       "75%     0.000000  \n",
       "max     1.000000  "
      ]
     },
     "execution_count": 20,
     "metadata": {},
     "output_type": "execute_result"
    }
   ],
   "source": [
    "df.describe()"
   ]
  },
  {
   "cell_type": "code",
   "execution_count": 21,
   "id": "8770c5c1",
   "metadata": {},
   "outputs": [],
   "source": [
    "df = df.set_index(Table_1[\"MINE_ID\"])"
   ]
  },
  {
   "cell_type": "code",
   "execution_count": 22,
   "id": "1ac92383",
   "metadata": {},
   "outputs": [],
   "source": [
    "# df.to_csv(r\"C:\\Users\\dharm\\OneDrive\\Desktop\\Datasets\\df_2021.csv\")"
   ]
  },
  {
   "cell_type": "code",
   "execution_count": 23,
   "id": "1c71c476",
   "metadata": {},
   "outputs": [],
   "source": [
    "# Table_2.to_csv(r\"C:\\Users\\dharm\\OneDrive\\Desktop\\Table_2.csv\")"
   ]
  },
  {
   "cell_type": "code",
   "execution_count": 24,
   "id": "8bb8d65a",
   "metadata": {},
   "outputs": [],
   "source": [
    "# df  = df.rename(columns={0: 'NDL_IR',1: 'NFDL_IR',2: 'SM',3: 'C/100',4:'SS/100',5:'O/100',6:\"PROPOSED_PENALTY\",7:\"NO_AFFECTED\"})"
   ]
  },
  {
   "cell_type": "code",
   "execution_count": 25,
   "id": "a3716160",
   "metadata": {},
   "outputs": [],
   "source": [
    "# df  = df.rename(columns={3: 'NDL_IR',4: 'NFDL_IR',5: 'SM',6: 'C/100',7:'SS/100',8:'O/100',2:\"PROPOSED_PENALTY\",1:\"NO_AFFECTED\"})"
   ]
  },
  {
   "cell_type": "code",
   "execution_count": 26,
   "id": "c49a96f3",
   "metadata": {},
   "outputs": [],
   "source": [
    "df  = df.rename(columns={1: 'NDL_IR',2: 'NFDL_IR',3: 'SM',4: 'C/100',5:'SS/100',6:'O/100',0:\"PROPOSED_PENALTY\"})"
   ]
  },
  {
   "cell_type": "code",
   "execution_count": 27,
   "id": "f244b115",
   "metadata": {},
   "outputs": [
    {
     "data": {
      "text/html": [
       "<div>\n",
       "<style scoped>\n",
       "    .dataframe tbody tr th:only-of-type {\n",
       "        vertical-align: middle;\n",
       "    }\n",
       "\n",
       "    .dataframe tbody tr th {\n",
       "        vertical-align: top;\n",
       "    }\n",
       "\n",
       "    .dataframe thead th {\n",
       "        text-align: right;\n",
       "    }\n",
       "</style>\n",
       "<table border=\"1\" class=\"dataframe\">\n",
       "  <thead>\n",
       "    <tr style=\"text-align: right;\">\n",
       "      <th></th>\n",
       "      <th>PROPOSED_PENALTY</th>\n",
       "      <th>NDL_IR</th>\n",
       "      <th>NFDL_IR</th>\n",
       "      <th>SM</th>\n",
       "      <th>C/100</th>\n",
       "      <th>SS/100</th>\n",
       "      <th>O/100</th>\n",
       "    </tr>\n",
       "    <tr>\n",
       "      <th>MINE_ID</th>\n",
       "      <th></th>\n",
       "      <th></th>\n",
       "      <th></th>\n",
       "      <th></th>\n",
       "      <th></th>\n",
       "      <th></th>\n",
       "      <th></th>\n",
       "    </tr>\n",
       "  </thead>\n",
       "  <tbody>\n",
       "    <tr>\n",
       "      <th>200152.0</th>\n",
       "      <td>0.000191</td>\n",
       "      <td>0.000000</td>\n",
       "      <td>0.000000</td>\n",
       "      <td>0.000000</td>\n",
       "      <td>0.000000</td>\n",
       "      <td>0.000000</td>\n",
       "      <td>0.000000</td>\n",
       "    </tr>\n",
       "    <tr>\n",
       "      <th>200840.0</th>\n",
       "      <td>0.000574</td>\n",
       "      <td>0.000000</td>\n",
       "      <td>0.000000</td>\n",
       "      <td>0.000000</td>\n",
       "      <td>0.000000</td>\n",
       "      <td>0.000000</td>\n",
       "      <td>0.000000</td>\n",
       "    </tr>\n",
       "    <tr>\n",
       "      <th>202286.0</th>\n",
       "      <td>0.047081</td>\n",
       "      <td>0.420219</td>\n",
       "      <td>0.418650</td>\n",
       "      <td>0.036048</td>\n",
       "      <td>0.120069</td>\n",
       "      <td>0.142235</td>\n",
       "      <td>0.000000</td>\n",
       "    </tr>\n",
       "    <tr>\n",
       "      <th>202443.0</th>\n",
       "      <td>0.008546</td>\n",
       "      <td>0.302022</td>\n",
       "      <td>0.000000</td>\n",
       "      <td>0.000000</td>\n",
       "      <td>0.000000</td>\n",
       "      <td>0.000000</td>\n",
       "      <td>0.000000</td>\n",
       "    </tr>\n",
       "    <tr>\n",
       "      <th>202620.0</th>\n",
       "      <td>0.076772</td>\n",
       "      <td>0.169418</td>\n",
       "      <td>0.168785</td>\n",
       "      <td>0.316100</td>\n",
       "      <td>0.519481</td>\n",
       "      <td>0.538462</td>\n",
       "      <td>0.000000</td>\n",
       "    </tr>\n",
       "    <tr>\n",
       "      <th>...</th>\n",
       "      <td>...</td>\n",
       "      <td>...</td>\n",
       "      <td>...</td>\n",
       "      <td>...</td>\n",
       "      <td>...</td>\n",
       "      <td>...</td>\n",
       "      <td>...</td>\n",
       "    </tr>\n",
       "    <tr>\n",
       "      <th>5001267.0</th>\n",
       "      <td>0.172022</td>\n",
       "      <td>0.070896</td>\n",
       "      <td>0.070631</td>\n",
       "      <td>0.016535</td>\n",
       "      <td>0.000000</td>\n",
       "      <td>0.000000</td>\n",
       "      <td>0.000000</td>\n",
       "    </tr>\n",
       "    <tr>\n",
       "      <th>5001544.0</th>\n",
       "      <td>0.113815</td>\n",
       "      <td>0.000000</td>\n",
       "      <td>0.255403</td>\n",
       "      <td>0.132199</td>\n",
       "      <td>0.029174</td>\n",
       "      <td>0.031215</td>\n",
       "      <td>0.013199</td>\n",
       "    </tr>\n",
       "    <tr>\n",
       "      <th>5001614.0</th>\n",
       "      <td>0.000000</td>\n",
       "      <td>0.000000</td>\n",
       "      <td>0.000000</td>\n",
       "      <td>0.000000</td>\n",
       "      <td>0.000000</td>\n",
       "      <td>0.000000</td>\n",
       "      <td>0.000000</td>\n",
       "    </tr>\n",
       "    <tr>\n",
       "      <th>5001642.0</th>\n",
       "      <td>0.102608</td>\n",
       "      <td>0.218903</td>\n",
       "      <td>0.087234</td>\n",
       "      <td>0.131683</td>\n",
       "      <td>0.000000</td>\n",
       "      <td>0.000000</td>\n",
       "      <td>0.000000</td>\n",
       "    </tr>\n",
       "    <tr>\n",
       "      <th>5001857.0</th>\n",
       "      <td>0.001181</td>\n",
       "      <td>0.000000</td>\n",
       "      <td>0.000000</td>\n",
       "      <td>0.000000</td>\n",
       "      <td>0.000000</td>\n",
       "      <td>0.000000</td>\n",
       "      <td>0.000000</td>\n",
       "    </tr>\n",
       "  </tbody>\n",
       "</table>\n",
       "<p>98 rows × 7 columns</p>\n",
       "</div>"
      ],
      "text/plain": [
       "           PROPOSED_PENALTY    NDL_IR   NFDL_IR        SM     C/100    SS/100  \\\n",
       "MINE_ID                                                                         \n",
       "200152.0           0.000191  0.000000  0.000000  0.000000  0.000000  0.000000   \n",
       "200840.0           0.000574  0.000000  0.000000  0.000000  0.000000  0.000000   \n",
       "202286.0           0.047081  0.420219  0.418650  0.036048  0.120069  0.142235   \n",
       "202443.0           0.008546  0.302022  0.000000  0.000000  0.000000  0.000000   \n",
       "202620.0           0.076772  0.169418  0.168785  0.316100  0.519481  0.538462   \n",
       "...                     ...       ...       ...       ...       ...       ...   \n",
       "5001267.0          0.172022  0.070896  0.070631  0.016535  0.000000  0.000000   \n",
       "5001544.0          0.113815  0.000000  0.255403  0.132199  0.029174  0.031215   \n",
       "5001614.0          0.000000  0.000000  0.000000  0.000000  0.000000  0.000000   \n",
       "5001642.0          0.102608  0.218903  0.087234  0.131683  0.000000  0.000000   \n",
       "5001857.0          0.001181  0.000000  0.000000  0.000000  0.000000  0.000000   \n",
       "\n",
       "              O/100  \n",
       "MINE_ID              \n",
       "200152.0   0.000000  \n",
       "200840.0   0.000000  \n",
       "202286.0   0.000000  \n",
       "202443.0   0.000000  \n",
       "202620.0   0.000000  \n",
       "...             ...  \n",
       "5001267.0  0.000000  \n",
       "5001544.0  0.013199  \n",
       "5001614.0  0.000000  \n",
       "5001642.0  0.000000  \n",
       "5001857.0  0.000000  \n",
       "\n",
       "[98 rows x 7 columns]"
      ]
     },
     "execution_count": 27,
     "metadata": {},
     "output_type": "execute_result"
    }
   ],
   "source": [
    "df"
   ]
  },
  {
   "cell_type": "code",
   "execution_count": 28,
   "id": "65c379c5",
   "metadata": {
    "scrolled": true
   },
   "outputs": [
    {
     "name": "stdout",
     "output_type": "stream",
     "text": [
      "For n_clusters = 2 The average silhouette_score is : 0.7100314668165454\n",
      "For n_clusters = 3 The average silhouette_score is : 0.6621633158034954\n",
      "For n_clusters = 4 The average silhouette_score is : 0.5764614323057332\n",
      "For n_clusters = 5 The average silhouette_score is : 0.6673905650613419\n",
      "For n_clusters = 6 The average silhouette_score is : 0.5990006331809554\n",
      "For n_clusters = 7 The average silhouette_score is : 0.5837365892387435\n",
      "For n_clusters = 8 The average silhouette_score is : 0.5815541002115848\n",
      "For n_clusters = 9 The average silhouette_score is : 0.600773720719537\n",
      "For n_clusters = 10 The average silhouette_score is : 0.5984991053014638\n"
     ]
    },
    {
     "data": {
      "image/png": "[encoded data removed]",
      "text/plain": [
       "<Figure size 1296x504 with 2 Axes>"
      ]
     },
     "metadata": {
      "needs_background": "light"
     },
     "output_type": "display_data"
    },
    {
     "data": {
      "image/png": "[encoded data removed]",
      "text/plain": [
       "<Figure size 1296x504 with 2 Axes>"
      ]
     },
     "metadata": {
      "needs_background": "light"
     },
     "output_type": "display_data"
    },
    {
     "data": {
      "image/png": "[encoded data removed]",
      "text/plain": [
       "<Figure size 1296x504 with 2 Axes>"
      ]
     },
     "metadata": {
      "needs_background": "light"
     },
     "output_type": "display_data"
    },
    {
     "data": {
      "image/png": "[encoded data removed]",
      "text/plain": [
       "<Figure size 1296x504 with 2 Axes>"
      ]
     },
     "metadata": {
      "needs_background": "light"
     },
     "output_type": "display_data"
    },
    {
     "data": {
      "image/png": "[encoded data removed]",
      "text/plain": [
       "<Figure size 1296x504 with 2 Axes>"
      ]
     },
     "metadata": {
      "needs_background": "light"
     },
     "output_type": "display_data"
    },
    {
     "data": {
      "image/png": "[encoded data removed]",
      "text/plain": [
       "<Figure size 1296x504 with 2 Axes>"
      ]
     },
     "metadata": {
      "needs_background": "light"
     },
     "output_type": "display_data"
    },
    {
     "data": {
      "image/png": "[encoded data removed]",
      "text/plain": [
       "<Figure size 1296x504 with 2 Axes>"
      ]
     },
     "metadata": {
      "needs_background": "light"
     },
     "output_type": "display_data"
    },
    {
     "data": {
      "image/png": "[encoded data removed]",
      "text/plain": [
       "<Figure size 1296x504 with 2 Axes>"
      ]
     },
     "metadata": {
      "needs_background": "light"
     },
     "output_type": "display_data"
    },
    {
     "data": {
      "image/png": "[encoded data removed]",
      "text/plain": [
       "<Figure size 1296x504 with 2 Axes>"
      ]
     },
     "metadata": {
      "needs_background": "light"
     },
     "output_type": "display_data"
    }
   ],
   "source": [
    "from sklearn.datasets import make_blobs\n",
    "from sklearn.cluster import KMeans\n",
    "from sklearn.metrics import silhouette_samples, silhouette_score\n",
    "\n",
    "import matplotlib.pyplot as plt\n",
    "import matplotlib.cm as cm\n",
    "import numpy as np\n",
    "\n",
    "# Generating the sample data from make_blobs\n",
    "# This particular setting has one distinct cluster and 3 clusters placed close\n",
    "# together.\n",
    "X, y = df,df[\"PROPOSED_PENALTY\"]\n",
    "\n",
    "range_n_clusters = range(2,11)\n",
    "\n",
    "for n_clusters in range_n_clusters:\n",
    "    # Create a subplot with 1 row and 2 columns\n",
    "    fig, (ax1, ax2) = plt.subplots(1, 2)\n",
    "    fig.set_size_inches(18, 7)\n",
    "\n",
    "    # The 1st subplot is the silhouette plot\n",
    "    # The silhouette coefficient can range from -1, 1 but in this example all\n",
    "    # lie within [-0.1, 1]\n",
    "    ax1.set_xlim([-0.1, 1])\n",
    "    # The (n_clusters+1)*10 is for inserting blank space between silhouette\n",
    "    # plots of individual clusters, to demarcate them clearly.\n",
    "    ax1.set_ylim([0, len(X) + (n_clusters + 1) * 10])\n",
    "\n",
    "    # Initialize the clusterer with n_clusters value and a random generator\n",
    "    # seed of 10 for reproducibility.\n",
    "    clusterer = KMeans(n_clusters=n_clusters, random_state=10)\n",
    "    cluster_labels = clusterer.fit_predict(X)\n",
    "\n",
    "    # The silhouette_score gives the average value for all the samples.\n",
    "    # This gives a perspective into the density and separation of the formed\n",
    "    # clusters\n",
    "    silhouette_avg = silhouette_score(X, cluster_labels)\n",
    "    print(\n",
    "        \"For n_clusters =\",\n",
    "        n_clusters,\n",
    "        \"The average silhouette_score is :\",\n",
    "        silhouette_avg,\n",
    "    )\n",
    "\n",
    "    # Compute the silhouette scores for each sample\n",
    "    sample_silhouette_values = silhouette_samples(X, cluster_labels)\n",
    "\n",
    "    y_lower = 10\n",
    "    for i in range(n_clusters):\n",
    "        # Aggregate the silhouette scores for samples belonging to\n",
    "        # cluster i, and sort them\n",
    "        ith_cluster_silhouette_values = sample_silhouette_values[cluster_labels == i]\n",
    "\n",
    "        ith_cluster_silhouette_values.sort()\n",
    "\n",
    "        size_cluster_i = ith_cluster_silhouette_values.shape[0]\n",
    "        y_upper = y_lower + size_cluster_i\n",
    "\n",
    "        color = cm.nipy_spectral(float(i) / n_clusters)\n",
    "        ax1.fill_betweenx(\n",
    "            np.arange(y_lower, y_upper),\n",
    "            0,\n",
    "            ith_cluster_silhouette_values,\n",
    "            facecolor=color,\n",
    "            edgecolor=color,\n",
    "            alpha=0.7,\n",
    "        )\n",
    "\n",
    "        # Label the silhouette plots with their cluster numbers at the middle\n",
    "        ax1.text(-0.05, y_lower + 0.5 * size_cluster_i, str(i))\n",
    "\n",
    "        # Compute the new y_lower for next plot\n",
    "        y_lower = y_upper + 10  # 10 for the 0 samples\n",
    "\n",
    "    ax1.set_title(\"The silhouette plot for the various clusters.\")\n",
    "    ax1.set_xlabel(\"The silhouette coefficient values\")\n",
    "    ax1.set_ylabel(\"Cluster label\")\n",
    "\n",
    "    # The vertical line for average silhouette score of all the values\n",
    "    ax1.axvline(x=silhouette_avg, color=\"red\", linestyle=\"--\")\n",
    "\n",
    "    ax1.set_yticks([])  # Clear the yaxis labels / ticks\n",
    "    ax1.set_xticks([-0.1, 0, 0.2, 0.4, 0.6, 0.8, 1])\n",
    "\n",
    "    # 2nd Plot showing the actual clusters formed\n",
    "#     colors = cm.nipy_spectral(cluster_labels.astype(float) / n_clusters)\n",
    "#     ax2.scatter(X[:, 0], X[:, 1], marker=\".\", s=30, lw=0, alpha=0.7, c=colors, edgecolor=\"k\")\n",
    "\n",
    "    # Labeling the clusters\n",
    "    centers = clusterer.cluster_centers_\n",
    "    # Draw white circles at cluster centers\n",
    "    ax2.scatter(\n",
    "        centers[:, 0],\n",
    "        centers[:, 1],\n",
    "        marker=\"o\",\n",
    "        c=\"white\",\n",
    "        alpha=1,\n",
    "        s=200,\n",
    "        edgecolor=\"k\",\n",
    "    )\n",
    "\n",
    "    for i, c in enumerate(centers):\n",
    "        ax2.scatter(c[0], c[1], marker=\"$%d$\" % i, alpha=1, s=50, edgecolor=\"k\")\n",
    "\n",
    "    ax2.set_title(\"The visualization of the clustered data.\")\n",
    "    ax2.set_xlabel(\"Feature space for the 1st feature\")\n",
    "    ax2.set_ylabel(\"Feature space for the 2nd feature\")\n",
    "\n",
    "    plt.suptitle(\n",
    "        \"Silhouette analysis for KMeans clustering on sample data with n_clusters = %d\"\n",
    "        % n_clusters,\n",
    "        fontsize=14,\n",
    "        fontweight=\"bold\",\n",
    "    )\n",
    "\n",
    "plt.show()"
   ]
  },
  {
   "cell_type": "code",
   "execution_count": 29,
   "id": "c02820db",
   "metadata": {},
   "outputs": [],
   "source": [
    "# pip install yellowbrick"
   ]
  },
  {
   "cell_type": "code",
   "execution_count": 30,
   "id": "f5ae1fe1",
   "metadata": {},
   "outputs": [
    {
     "data": {
      "image/png": "[encoded data removed]",
      "text/plain": [
       "<Figure size 576x396 with 2 Axes>"
      ]
     },
     "metadata": {},
     "output_type": "display_data"
    },
    {
     "data": {
      "text/plain": [
       "<AxesSubplot:title={'center':'Silhouette Score Elbow for KMeans Clustering'}, xlabel='k', ylabel='silhouette score'>"
      ]
     },
     "execution_count": 30,
     "metadata": {},
     "output_type": "execute_result"
    }
   ],
   "source": [
    "# Import ElbowVisualizer\n",
    "\n",
    "from yellowbrick.cluster import KElbowVisualizer\n",
    "model = KMeans()\n",
    "# k is range of number of clusters.\n",
    "visualizer = KElbowVisualizer(model, k=(2,10),metric='silhouette', timings= True)\n",
    "visualizer.fit(df)        # Fit the data to the visualizer\n",
    "visualizer.show()    "
   ]
  },
  {
   "cell_type": "code",
   "execution_count": 31,
   "id": "4c3c6142",
   "metadata": {},
   "outputs": [],
   "source": [
    "df_kmeans = df.copy()"
   ]
  },
  {
   "cell_type": "code",
   "execution_count": 32,
   "id": "af2f5631",
   "metadata": {},
   "outputs": [
    {
     "name": "stderr",
     "output_type": "stream",
     "text": [
      "C:\\Users\\dharm\\anaconda3\\lib\\site-packages\\sklearn\\cluster\\_kmeans.py:1036: UserWarning: KMeans is known to have a memory leak on Windows with MKL, when there are less chunks than available threads. You can avoid it by setting the environment variable OMP_NUM_THREADS=1.\n",
      "  warnings.warn(\n"
     ]
    },
    {
     "data": {
      "image/png": "[encoded data removed]",
      "text/plain": [
       "<Figure size 576x396 with 1 Axes>"
      ]
     },
     "metadata": {},
     "output_type": "display_data"
    }
   ],
   "source": [
    "# Elbow Method\n",
    "import pandas as pd\n",
    "from sklearn.cluster import KMeans\n",
    "import matplotlib.pyplot as plt\n",
    "X= df_kmeans\n",
    "# Using the elbow method to find  the optimal number of clusters\n",
    "wcss = []\n",
    "for i in range(1, 11):\n",
    "    kmeans= KMeans(n_clusters=i, init='k-means++', max_iter= 500, n_init= 10, random_state= 0)\n",
    "    kmeans.fit(X)\n",
    "    wcss.append(kmeans.inertia_)\n",
    "plt.plot(range(1, 11),wcss)\n",
    "plt.title('The Elbow Method')\n",
    "plt.xlabel('Number of clusters K')\n",
    "plt.ylabel('Average Within-Cluster distance to Centroid (WCSS)')  \n",
    "plt.xlim(1,10)\n",
    "plt.show()"
   ]
  },
  {
   "cell_type": "code",
   "execution_count": 33,
   "id": "dd75054b",
   "metadata": {},
   "outputs": [],
   "source": [
    "import random\n",
    "from sklearn.cluster import KMeans\n",
    "random.seed(10)\n",
    "model = KMeans(3)\n",
    "model.fit(df_kmeans)\n",
    "a=model.cluster_centers_\n",
    "x=model.predict(df_kmeans)\n",
    "df_kmeans[\"cluster_number\"]=x"
   ]
  },
  {
   "cell_type": "code",
   "execution_count": 34,
   "id": "cc51c269",
   "metadata": {},
   "outputs": [],
   "source": [
    "Table_3 = df.copy()"
   ]
  },
  {
   "cell_type": "code",
   "execution_count": 35,
   "id": "0638f0c9",
   "metadata": {},
   "outputs": [],
   "source": [
    "Table_3 [\"Kmeans clustering\"] = df_kmeans['cluster_number']"
   ]
  },
  {
   "cell_type": "code",
   "execution_count": 36,
   "id": "7218a042",
   "metadata": {},
   "outputs": [
    {
     "data": {
      "text/plain": [
       "0    84\n",
       "2     9\n",
       "1     5\n",
       "Name: cluster_number, dtype: int64"
      ]
     },
     "execution_count": 36,
     "metadata": {},
     "output_type": "execute_result"
    }
   ],
   "source": [
    "df_kmeans['cluster_number'].value_counts()"
   ]
  },
  {
   "cell_type": "code",
   "execution_count": 37,
   "id": "e32e24da",
   "metadata": {},
   "outputs": [],
   "source": [
    "df_aggolmerative_clustering = df.copy()"
   ]
  },
  {
   "cell_type": "code",
   "execution_count": 38,
   "id": "d9d795ae",
   "metadata": {},
   "outputs": [],
   "source": [
    "# agglomerative clustering\n",
    "from numpy import unique\n",
    "from numpy import where\n",
    "from sklearn.datasets import make_classification\n",
    "from sklearn.cluster import AgglomerativeClustering\n",
    "from matplotlib import pyplot\n",
    "# define dataset\n",
    "# define the model\n",
    "random.seed(20)\n",
    "model = AgglomerativeClustering(n_clusters=3)\n",
    "# fit model and predict clusters\n",
    "yhat = model.fit_predict(df_aggolmerative_clustering)\n",
    "# retrieve unique clusters\n",
    "clusters = unique(yhat)\n",
    "# create scatter plot for samples from each cluster"
   ]
  },
  {
   "cell_type": "code",
   "execution_count": 39,
   "id": "31ffb5d5",
   "metadata": {},
   "outputs": [],
   "source": [
    "df_aggolmerative_clustering[\"cluster_number\"]= yhat"
   ]
  },
  {
   "cell_type": "code",
   "execution_count": 40,
   "id": "04df494b",
   "metadata": {},
   "outputs": [
    {
     "data": {
      "text/plain": [
       "0    90\n",
       "1     6\n",
       "2     2\n",
       "Name: cluster_number, dtype: int64"
      ]
     },
     "execution_count": 40,
     "metadata": {},
     "output_type": "execute_result"
    }
   ],
   "source": [
    "df_aggolmerative_clustering['cluster_number'].value_counts()"
   ]
  },
  {
   "cell_type": "code",
   "execution_count": 41,
   "id": "d867e5ca",
   "metadata": {},
   "outputs": [],
   "source": [
    "Table_3 [\"Agglomerative clustering\"] = df_aggolmerative_clustering['cluster_number']"
   ]
  },
  {
   "cell_type": "code",
   "execution_count": 42,
   "id": "87394551",
   "metadata": {},
   "outputs": [],
   "source": [
    "df_birch = df.copy()"
   ]
  },
  {
   "cell_type": "code",
   "execution_count": 43,
   "id": "5c92d529",
   "metadata": {},
   "outputs": [],
   "source": [
    "# birch clustering\n",
    "from numpy import unique\n",
    "from numpy import where\n",
    "from sklearn.datasets import make_classification\n",
    "from sklearn.cluster import Birch\n",
    "from matplotlib import pyplot\n",
    "# define dataset\n",
    "# define the model\n",
    "random.seed(20)\n",
    "model = Birch(threshold=0.01, n_clusters=3)\n",
    "# fit the model\n",
    "model.fit(df_birch)\n",
    "# assign a cluster to each example\n",
    "yhat = model.predict(df_birch)\n",
    "# retrieve unique clusters\n",
    "clusters = unique(yhat)\n",
    "# create scatter plot for samples from each cluster"
   ]
  },
  {
   "cell_type": "code",
   "execution_count": 44,
   "id": "1b3558fb",
   "metadata": {},
   "outputs": [],
   "source": [
    "df_birch[\"cluster_number\"]= yhat"
   ]
  },
  {
   "cell_type": "code",
   "execution_count": 45,
   "id": "fe9f9c2d",
   "metadata": {},
   "outputs": [
    {
     "data": {
      "text/plain": [
       "0    90\n",
       "1     6\n",
       "2     2\n",
       "Name: cluster_number, dtype: int64"
      ]
     },
     "execution_count": 45,
     "metadata": {},
     "output_type": "execute_result"
    }
   ],
   "source": [
    "df_birch['cluster_number'].value_counts()"
   ]
  },
  {
   "cell_type": "code",
   "execution_count": 46,
   "id": "6d2a3d8e",
   "metadata": {},
   "outputs": [],
   "source": [
    "Table_3 [\"birch propagation clustering\"] = df_birch['cluster_number']"
   ]
  },
  {
   "cell_type": "code",
   "execution_count": 47,
   "id": "2f830391",
   "metadata": {},
   "outputs": [],
   "source": [
    "# df_optics = df.copy()"
   ]
  },
  {
   "cell_type": "code",
   "execution_count": 48,
   "id": "62a6081f",
   "metadata": {},
   "outputs": [],
   "source": [
    "# from sklearn.cluster import OPTICS\n",
    "# random.seed(20)\n",
    "# # define the model\n",
    "# model = OPTICS(eps=0.8, min_samples=4)\n",
    "# # fit model and predict clusters\n",
    "\n",
    "# yhat = model.fit_predict(df_optics)\n",
    "# # retrieve unique clusters\n",
    "# clusters = unique(yhat)"
   ]
  },
  {
   "cell_type": "code",
   "execution_count": 49,
   "id": "20702b3e",
   "metadata": {},
   "outputs": [],
   "source": [
    "# df_optics[\"cluster_number\"]= yhat"
   ]
  },
  {
   "cell_type": "code",
   "execution_count": 50,
   "id": "81a39005",
   "metadata": {},
   "outputs": [],
   "source": [
    "# df_optics['cluster_number'].value_counts()"
   ]
  },
  {
   "cell_type": "code",
   "execution_count": 51,
   "id": "728b666c",
   "metadata": {},
   "outputs": [],
   "source": [
    "# Table_3 [\"optics clustering\"] = df_optics['cluster_number']"
   ]
  },
  {
   "cell_type": "code",
   "execution_count": 52,
   "id": "fed72704",
   "metadata": {},
   "outputs": [],
   "source": [
    "df_spectral = df.copy()"
   ]
  },
  {
   "cell_type": "code",
   "execution_count": 53,
   "id": "fe7dccc5",
   "metadata": {},
   "outputs": [],
   "source": [
    "from sklearn.cluster import SpectralClustering"
   ]
  },
  {
   "cell_type": "code",
   "execution_count": 54,
   "id": "6c280bf3",
   "metadata": {},
   "outputs": [],
   "source": [
    "spectral_cluster_model= SpectralClustering(\n",
    "    n_clusters=3, \n",
    "    random_state=15,  \n",
    "    affinity='nearest_neighbors'\n",
    ")"
   ]
  },
  {
   "cell_type": "code",
   "execution_count": 55,
   "id": "18463304",
   "metadata": {},
   "outputs": [],
   "source": [
    "random.seed(20)\n",
    "df_spectral ['cluster'] = spectral_cluster_model.fit_predict(df_spectral)"
   ]
  },
  {
   "cell_type": "code",
   "execution_count": 56,
   "id": "fb69bdde",
   "metadata": {},
   "outputs": [
    {
     "data": {
      "text/plain": [
       "1    46\n",
       "0    40\n",
       "2    12\n",
       "Name: cluster, dtype: int64"
      ]
     },
     "execution_count": 56,
     "metadata": {},
     "output_type": "execute_result"
    }
   ],
   "source": [
    "df_spectral['cluster'].value_counts()"
   ]
  },
  {
   "cell_type": "code",
   "execution_count": 57,
   "id": "67fbec4a",
   "metadata": {},
   "outputs": [],
   "source": [
    "Table_3 [\"Spectral clustering\"] = df_spectral['cluster']"
   ]
  },
  {
   "cell_type": "code",
   "execution_count": 58,
   "id": "c75abc3f",
   "metadata": {},
   "outputs": [],
   "source": [
    "df_guassian = df.copy()"
   ]
  },
  {
   "cell_type": "code",
   "execution_count": 59,
   "id": "327d49b4",
   "metadata": {},
   "outputs": [
    {
     "data": {
      "text/plain": [
       "GaussianMixture(n_components=3)"
      ]
     },
     "execution_count": 59,
     "metadata": {},
     "output_type": "execute_result"
    }
   ],
   "source": [
    "from sklearn.mixture import GaussianMixture\n",
    "from sklearn.mixture import GaussianMixture\n",
    "random.seed(20)\n",
    "n_clusters = 3\n",
    "gmm_model = GaussianMixture(n_components=n_clusters)\n",
    "gmm_model.fit(df_guassian)"
   ]
  },
  {
   "cell_type": "code",
   "execution_count": 60,
   "id": "1e0ced10",
   "metadata": {},
   "outputs": [],
   "source": [
    "yhat = gmm_model.predict(df_guassian)"
   ]
  },
  {
   "cell_type": "code",
   "execution_count": 61,
   "id": "737c4861",
   "metadata": {},
   "outputs": [],
   "source": [
    "df_guassian[\"cluster_number\"]= yhat"
   ]
  },
  {
   "cell_type": "code",
   "execution_count": 62,
   "id": "8106b20e",
   "metadata": {},
   "outputs": [
    {
     "data": {
      "text/plain": [
       "0    67\n",
       "2    26\n",
       "1     5\n",
       "Name: cluster_number, dtype: int64"
      ]
     },
     "execution_count": 62,
     "metadata": {},
     "output_type": "execute_result"
    }
   ],
   "source": [
    "df_guassian['cluster_number'].value_counts()"
   ]
  },
  {
   "cell_type": "code",
   "execution_count": 63,
   "id": "f9ea76f4",
   "metadata": {},
   "outputs": [],
   "source": [
    "Table_3 [\"Guassian clustering\"] = df_guassian['cluster_number']"
   ]
  },
  {
   "cell_type": "code",
   "execution_count": 64,
   "id": "eab44864",
   "metadata": {},
   "outputs": [],
   "source": [
    "# !pip install fuzzy-c-means"
   ]
  },
  {
   "cell_type": "code",
   "execution_count": 65,
   "id": "ca88f6ad",
   "metadata": {},
   "outputs": [],
   "source": [
    "df_fuzzy = df.copy()"
   ]
  },
  {
   "cell_type": "code",
   "execution_count": 66,
   "id": "8637fe87",
   "metadata": {},
   "outputs": [],
   "source": [
    "x = df_fuzzy.values"
   ]
  },
  {
   "cell_type": "code",
   "execution_count": 67,
   "id": "e872f215",
   "metadata": {},
   "outputs": [],
   "source": [
    "import numpy as np\n",
    "from fcmeans import FCM\n",
    "from matplotlib import pyplot as plt"
   ]
  },
  {
   "cell_type": "code",
   "execution_count": 68,
   "id": "92393d05",
   "metadata": {},
   "outputs": [],
   "source": [
    "random.seed(20)\n",
    "fcm = FCM(n_clusters=3)\n",
    "fcm.fit(x)"
   ]
  },
  {
   "cell_type": "code",
   "execution_count": 69,
   "id": "6cbba9eb",
   "metadata": {},
   "outputs": [],
   "source": [
    "fcm_centers = fcm.centers\n",
    "fcm_labels = fcm.predict(x)"
   ]
  },
  {
   "cell_type": "code",
   "execution_count": 70,
   "id": "cb2684ea",
   "metadata": {},
   "outputs": [],
   "source": [
    "df_fuzzy[\"cluster_number\"]= fcm_labels"
   ]
  },
  {
   "cell_type": "code",
   "execution_count": 71,
   "id": "0cc62622",
   "metadata": {},
   "outputs": [
    {
     "data": {
      "text/plain": [
       "2    66\n",
       "0    27\n",
       "1     5\n",
       "Name: cluster_number, dtype: int64"
      ]
     },
     "execution_count": 71,
     "metadata": {},
     "output_type": "execute_result"
    }
   ],
   "source": [
    "df_fuzzy['cluster_number'].value_counts()"
   ]
  },
  {
   "cell_type": "code",
   "execution_count": 72,
   "id": "ebfb5466",
   "metadata": {},
   "outputs": [],
   "source": [
    "Table_3 [\"fuzzy clustering\"] = df_fuzzy['cluster_number']"
   ]
  },
  {
   "cell_type": "code",
   "execution_count": 73,
   "id": "d9efdeec",
   "metadata": {},
   "outputs": [],
   "source": [
    "Table_3.to_csv(r\"C:\\Users\\dharm\\OneDrive\\Desktop\\Table_3.csv\")"
   ]
  },
  {
   "cell_type": "code",
   "execution_count": 74,
   "id": "d756c03f",
   "metadata": {},
   "outputs": [
    {
     "data": {
      "text/html": [
       "<div>\n",
       "<style scoped>\n",
       "    .dataframe tbody tr th:only-of-type {\n",
       "        vertical-align: middle;\n",
       "    }\n",
       "\n",
       "    .dataframe tbody tr th {\n",
       "        vertical-align: top;\n",
       "    }\n",
       "\n",
       "    .dataframe thead th {\n",
       "        text-align: right;\n",
       "    }\n",
       "</style>\n",
       "<table border=\"1\" class=\"dataframe\">\n",
       "  <thead>\n",
       "    <tr style=\"text-align: right;\">\n",
       "      <th></th>\n",
       "      <th>PROPOSED_PENALTY</th>\n",
       "      <th>NDL_IR</th>\n",
       "      <th>NFDL_IR</th>\n",
       "      <th>SM</th>\n",
       "      <th>C/100</th>\n",
       "      <th>SS/100</th>\n",
       "      <th>O/100</th>\n",
       "      <th>Agglomerative clustering</th>\n",
       "      <th>birch propagation clustering</th>\n",
       "      <th>Spectral clustering</th>\n",
       "      <th>Guassian clustering</th>\n",
       "      <th>fuzzy clustering</th>\n",
       "    </tr>\n",
       "    <tr>\n",
       "      <th>Kmeans clustering</th>\n",
       "      <th></th>\n",
       "      <th></th>\n",
       "      <th></th>\n",
       "      <th></th>\n",
       "      <th></th>\n",
       "      <th></th>\n",
       "      <th></th>\n",
       "      <th></th>\n",
       "      <th></th>\n",
       "      <th></th>\n",
       "      <th></th>\n",
       "      <th></th>\n",
       "    </tr>\n",
       "  </thead>\n",
       "  <tbody>\n",
       "    <tr>\n",
       "      <th>0</th>\n",
       "      <td>0.049035</td>\n",
       "      <td>0.054701</td>\n",
       "      <td>0.025419</td>\n",
       "      <td>0.028351</td>\n",
       "      <td>0.015770</td>\n",
       "      <td>0.013659</td>\n",
       "      <td>0.012346</td>\n",
       "      <td>0.011905</td>\n",
       "      <td>0.011905</td>\n",
       "      <td>0.833333</td>\n",
       "      <td>0.404762</td>\n",
       "      <td>1.571429</td>\n",
       "    </tr>\n",
       "    <tr>\n",
       "      <th>1</th>\n",
       "      <td>0.113707</td>\n",
       "      <td>0.092023</td>\n",
       "      <td>0.048018</td>\n",
       "      <td>0.111609</td>\n",
       "      <td>0.713369</td>\n",
       "      <td>0.687149</td>\n",
       "      <td>0.406429</td>\n",
       "      <td>1.000000</td>\n",
       "      <td>1.000000</td>\n",
       "      <td>0.000000</td>\n",
       "      <td>1.000000</td>\n",
       "      <td>1.000000</td>\n",
       "    </tr>\n",
       "    <tr>\n",
       "      <th>2</th>\n",
       "      <td>0.035240</td>\n",
       "      <td>0.443338</td>\n",
       "      <td>0.431740</td>\n",
       "      <td>0.377169</td>\n",
       "      <td>0.033117</td>\n",
       "      <td>0.039325</td>\n",
       "      <td>0.011623</td>\n",
       "      <td>0.444444</td>\n",
       "      <td>0.444444</td>\n",
       "      <td>0.000000</td>\n",
       "      <td>2.000000</td>\n",
       "      <td>0.000000</td>\n",
       "    </tr>\n",
       "  </tbody>\n",
       "</table>\n",
       "</div>"
      ],
      "text/plain": [
       "                   PROPOSED_PENALTY    NDL_IR   NFDL_IR        SM     C/100  \\\n",
       "Kmeans clustering                                                             \n",
       "0                          0.049035  0.054701  0.025419  0.028351  0.015770   \n",
       "1                          0.113707  0.092023  0.048018  0.111609  0.713369   \n",
       "2                          0.035240  0.443338  0.431740  0.377169  0.033117   \n",
       "\n",
       "                     SS/100     O/100  Agglomerative clustering  \\\n",
       "Kmeans clustering                                                 \n",
       "0                  0.013659  0.012346                  0.011905   \n",
       "1                  0.687149  0.406429                  1.000000   \n",
       "2                  0.039325  0.011623                  0.444444   \n",
       "\n",
       "                   birch propagation clustering  Spectral clustering  \\\n",
       "Kmeans clustering                                                      \n",
       "0                                      0.011905             0.833333   \n",
       "1                                      1.000000             0.000000   \n",
       "2                                      0.444444             0.000000   \n",
       "\n",
       "                   Guassian clustering  fuzzy clustering  \n",
       "Kmeans clustering                                         \n",
       "0                             0.404762          1.571429  \n",
       "1                             1.000000          1.000000  \n",
       "2                             2.000000          0.000000  "
      ]
     },
     "execution_count": 74,
     "metadata": {},
     "output_type": "execute_result"
    }
   ],
   "source": [
    "Table_3.groupby(\"Kmeans clustering\").mean()"
   ]
  },
  {
   "cell_type": "code",
   "execution_count": null,
   "id": "cb339edb",
   "metadata": {},
   "outputs": [],
   "source": []
  },
  {
   "cell_type": "code",
   "execution_count": 75,
   "id": "2b127fd6",
   "metadata": {},
   "outputs": [
    {
     "data": {
      "text/html": [
       "<div>\n",
       "<style scoped>\n",
       "    .dataframe tbody tr th:only-of-type {\n",
       "        vertical-align: middle;\n",
       "    }\n",
       "\n",
       "    .dataframe tbody tr th {\n",
       "        vertical-align: top;\n",
       "    }\n",
       "\n",
       "    .dataframe thead th {\n",
       "        text-align: right;\n",
       "    }\n",
       "</style>\n",
       "<table border=\"1\" class=\"dataframe\">\n",
       "  <thead>\n",
       "    <tr style=\"text-align: right;\">\n",
       "      <th></th>\n",
       "      <th>PROPOSED_PENALTY</th>\n",
       "      <th>NDL_IR</th>\n",
       "      <th>NFDL_IR</th>\n",
       "      <th>SM</th>\n",
       "      <th>C/100</th>\n",
       "      <th>SS/100</th>\n",
       "      <th>O/100</th>\n",
       "      <th>Kmeans clustering</th>\n",
       "      <th>Agglomerative clustering</th>\n",
       "      <th>birch propagation clustering</th>\n",
       "      <th>Spectral clustering</th>\n",
       "      <th>Guassian clustering</th>\n",
       "    </tr>\n",
       "    <tr>\n",
       "      <th>fuzzy clustering</th>\n",
       "      <th></th>\n",
       "      <th></th>\n",
       "      <th></th>\n",
       "      <th></th>\n",
       "      <th></th>\n",
       "      <th></th>\n",
       "      <th></th>\n",
       "      <th></th>\n",
       "      <th></th>\n",
       "      <th></th>\n",
       "      <th></th>\n",
       "      <th></th>\n",
       "    </tr>\n",
       "  </thead>\n",
       "  <tbody>\n",
       "    <tr>\n",
       "      <th>0</th>\n",
       "      <td>0.143715</td>\n",
       "      <td>0.282496</td>\n",
       "      <td>0.200549</td>\n",
       "      <td>0.187451</td>\n",
       "      <td>0.040740</td>\n",
       "      <td>0.037708</td>\n",
       "      <td>0.012875</td>\n",
       "      <td>0.666667</td>\n",
       "      <td>0.148148</td>\n",
       "      <td>0.148148</td>\n",
       "      <td>0.000000</td>\n",
       "      <td>1.407407</td>\n",
       "    </tr>\n",
       "    <tr>\n",
       "      <th>1</th>\n",
       "      <td>0.113707</td>\n",
       "      <td>0.092023</td>\n",
       "      <td>0.048018</td>\n",
       "      <td>0.111609</td>\n",
       "      <td>0.713369</td>\n",
       "      <td>0.687149</td>\n",
       "      <td>0.406429</td>\n",
       "      <td>1.000000</td>\n",
       "      <td>1.000000</td>\n",
       "      <td>1.000000</td>\n",
       "      <td>0.000000</td>\n",
       "      <td>1.000000</td>\n",
       "    </tr>\n",
       "    <tr>\n",
       "      <th>2</th>\n",
       "      <td>0.008421</td>\n",
       "      <td>0.014509</td>\n",
       "      <td>0.009182</td>\n",
       "      <td>0.010831</td>\n",
       "      <td>0.007921</td>\n",
       "      <td>0.007321</td>\n",
       "      <td>0.012031</td>\n",
       "      <td>0.000000</td>\n",
       "      <td>0.015152</td>\n",
       "      <td>0.015152</td>\n",
       "      <td>1.060606</td>\n",
       "      <td>0.212121</td>\n",
       "    </tr>\n",
       "  </tbody>\n",
       "</table>\n",
       "</div>"
      ],
      "text/plain": [
       "                  PROPOSED_PENALTY    NDL_IR   NFDL_IR        SM     C/100  \\\n",
       "fuzzy clustering                                                             \n",
       "0                         0.143715  0.282496  0.200549  0.187451  0.040740   \n",
       "1                         0.113707  0.092023  0.048018  0.111609  0.713369   \n",
       "2                         0.008421  0.014509  0.009182  0.010831  0.007921   \n",
       "\n",
       "                    SS/100     O/100  Kmeans clustering  \\\n",
       "fuzzy clustering                                          \n",
       "0                 0.037708  0.012875           0.666667   \n",
       "1                 0.687149  0.406429           1.000000   \n",
       "2                 0.007321  0.012031           0.000000   \n",
       "\n",
       "                  Agglomerative clustering  birch propagation clustering  \\\n",
       "fuzzy clustering                                                           \n",
       "0                                 0.148148                      0.148148   \n",
       "1                                 1.000000                      1.000000   \n",
       "2                                 0.015152                      0.015152   \n",
       "\n",
       "                  Spectral clustering  Guassian clustering  \n",
       "fuzzy clustering                                            \n",
       "0                            0.000000             1.407407  \n",
       "1                            0.000000             1.000000  \n",
       "2                            1.060606             0.212121  "
      ]
     },
     "execution_count": 75,
     "metadata": {},
     "output_type": "execute_result"
    }
   ],
   "source": [
    "Table_3.groupby(\"fuzzy clustering\").mean()"
   ]
  },
  {
   "cell_type": "code",
   "execution_count": 76,
   "id": "3739acf0",
   "metadata": {},
   "outputs": [
    {
     "data": {
      "text/html": [
       "<div>\n",
       "<style scoped>\n",
       "    .dataframe tbody tr th:only-of-type {\n",
       "        vertical-align: middle;\n",
       "    }\n",
       "\n",
       "    .dataframe tbody tr th {\n",
       "        vertical-align: top;\n",
       "    }\n",
       "\n",
       "    .dataframe thead th {\n",
       "        text-align: right;\n",
       "    }\n",
       "</style>\n",
       "<table border=\"1\" class=\"dataframe\">\n",
       "  <thead>\n",
       "    <tr style=\"text-align: right;\">\n",
       "      <th></th>\n",
       "      <th>PROPOSED_PENALTY</th>\n",
       "      <th>NDL_IR</th>\n",
       "      <th>NFDL_IR</th>\n",
       "      <th>SM</th>\n",
       "      <th>C/100</th>\n",
       "      <th>SS/100</th>\n",
       "      <th>O/100</th>\n",
       "      <th>Kmeans clustering</th>\n",
       "      <th>Agglomerative clustering</th>\n",
       "      <th>birch propagation clustering</th>\n",
       "      <th>Guassian clustering</th>\n",
       "      <th>fuzzy clustering</th>\n",
       "    </tr>\n",
       "    <tr>\n",
       "      <th>Spectral clustering</th>\n",
       "      <th></th>\n",
       "      <th></th>\n",
       "      <th></th>\n",
       "      <th></th>\n",
       "      <th></th>\n",
       "      <th></th>\n",
       "      <th></th>\n",
       "      <th></th>\n",
       "      <th></th>\n",
       "      <th></th>\n",
       "      <th></th>\n",
       "      <th></th>\n",
       "    </tr>\n",
       "  </thead>\n",
       "  <tbody>\n",
       "    <tr>\n",
       "      <th>0</th>\n",
       "      <td>0.119632</td>\n",
       "      <td>0.224865</td>\n",
       "      <td>0.155895</td>\n",
       "      <td>0.156024</td>\n",
       "      <td>0.119323</td>\n",
       "      <td>0.113089</td>\n",
       "      <td>0.060253</td>\n",
       "      <td>0.575</td>\n",
       "      <td>0.225000</td>\n",
       "      <td>0.225000</td>\n",
       "      <td>1.425</td>\n",
       "      <td>0.525</td>\n",
       "    </tr>\n",
       "    <tr>\n",
       "      <th>1</th>\n",
       "      <td>0.004767</td>\n",
       "      <td>0.001097</td>\n",
       "      <td>0.000546</td>\n",
       "      <td>0.002024</td>\n",
       "      <td>0.009057</td>\n",
       "      <td>0.008989</td>\n",
       "      <td>0.016603</td>\n",
       "      <td>0.000</td>\n",
       "      <td>0.021739</td>\n",
       "      <td>0.021739</td>\n",
       "      <td>0.000</td>\n",
       "      <td>2.000</td>\n",
       "    </tr>\n",
       "    <tr>\n",
       "      <th>2</th>\n",
       "      <td>0.000002</td>\n",
       "      <td>0.000000</td>\n",
       "      <td>0.000000</td>\n",
       "      <td>0.000000</td>\n",
       "      <td>0.000000</td>\n",
       "      <td>0.000000</td>\n",
       "      <td>0.000000</td>\n",
       "      <td>0.000</td>\n",
       "      <td>0.000000</td>\n",
       "      <td>0.000000</td>\n",
       "      <td>0.000</td>\n",
       "      <td>2.000</td>\n",
       "    </tr>\n",
       "  </tbody>\n",
       "</table>\n",
       "</div>"
      ],
      "text/plain": [
       "                     PROPOSED_PENALTY    NDL_IR   NFDL_IR        SM     C/100  \\\n",
       "Spectral clustering                                                             \n",
       "0                            0.119632  0.224865  0.155895  0.156024  0.119323   \n",
       "1                            0.004767  0.001097  0.000546  0.002024  0.009057   \n",
       "2                            0.000002  0.000000  0.000000  0.000000  0.000000   \n",
       "\n",
       "                       SS/100     O/100  Kmeans clustering  \\\n",
       "Spectral clustering                                          \n",
       "0                    0.113089  0.060253              0.575   \n",
       "1                    0.008989  0.016603              0.000   \n",
       "2                    0.000000  0.000000              0.000   \n",
       "\n",
       "                     Agglomerative clustering  birch propagation clustering  \\\n",
       "Spectral clustering                                                           \n",
       "0                                    0.225000                      0.225000   \n",
       "1                                    0.021739                      0.021739   \n",
       "2                                    0.000000                      0.000000   \n",
       "\n",
       "                     Guassian clustering  fuzzy clustering  \n",
       "Spectral clustering                                         \n",
       "0                                  1.425             0.525  \n",
       "1                                  0.000             2.000  \n",
       "2                                  0.000             2.000  "
      ]
     },
     "execution_count": 76,
     "metadata": {},
     "output_type": "execute_result"
    }
   ],
   "source": [
    "Table_3.groupby(\"Spectral clustering\").mean()"
   ]
  },
  {
   "cell_type": "code",
   "execution_count": 77,
   "id": "86973b22",
   "metadata": {},
   "outputs": [
    {
     "data": {
      "text/html": [
       "<div>\n",
       "<style scoped>\n",
       "    .dataframe tbody tr th:only-of-type {\n",
       "        vertical-align: middle;\n",
       "    }\n",
       "\n",
       "    .dataframe tbody tr th {\n",
       "        vertical-align: top;\n",
       "    }\n",
       "\n",
       "    .dataframe thead th {\n",
       "        text-align: right;\n",
       "    }\n",
       "</style>\n",
       "<table border=\"1\" class=\"dataframe\">\n",
       "  <thead>\n",
       "    <tr style=\"text-align: right;\">\n",
       "      <th></th>\n",
       "      <th>PROPOSED_PENALTY</th>\n",
       "      <th>NDL_IR</th>\n",
       "      <th>NFDL_IR</th>\n",
       "      <th>SM</th>\n",
       "      <th>C/100</th>\n",
       "      <th>SS/100</th>\n",
       "      <th>O/100</th>\n",
       "      <th>Kmeans clustering</th>\n",
       "      <th>Agglomerative clustering</th>\n",
       "      <th>birch propagation clustering</th>\n",
       "      <th>Spectral clustering</th>\n",
       "      <th>fuzzy clustering</th>\n",
       "    </tr>\n",
       "    <tr>\n",
       "      <th>Guassian clustering</th>\n",
       "      <th></th>\n",
       "      <th></th>\n",
       "      <th></th>\n",
       "      <th></th>\n",
       "      <th></th>\n",
       "      <th></th>\n",
       "      <th></th>\n",
       "      <th></th>\n",
       "      <th></th>\n",
       "      <th></th>\n",
       "      <th></th>\n",
       "      <th></th>\n",
       "    </tr>\n",
       "  </thead>\n",
       "  <tbody>\n",
       "    <tr>\n",
       "      <th>0</th>\n",
       "      <td>0.043365</td>\n",
       "      <td>0.029335</td>\n",
       "      <td>0.005758</td>\n",
       "      <td>0.007461</td>\n",
       "      <td>0.017396</td>\n",
       "      <td>0.014699</td>\n",
       "      <td>0.014946</td>\n",
       "      <td>0.000000</td>\n",
       "      <td>0.014925</td>\n",
       "      <td>0.014925</td>\n",
       "      <td>1.044776</td>\n",
       "      <td>1.761194</td>\n",
       "    </tr>\n",
       "    <tr>\n",
       "      <th>1</th>\n",
       "      <td>0.113707</td>\n",
       "      <td>0.092023</td>\n",
       "      <td>0.048018</td>\n",
       "      <td>0.111609</td>\n",
       "      <td>0.713369</td>\n",
       "      <td>0.687149</td>\n",
       "      <td>0.406429</td>\n",
       "      <td>1.000000</td>\n",
       "      <td>1.000000</td>\n",
       "      <td>1.000000</td>\n",
       "      <td>0.000000</td>\n",
       "      <td>1.000000</td>\n",
       "    </tr>\n",
       "    <tr>\n",
       "      <th>2</th>\n",
       "      <td>0.058869</td>\n",
       "      <td>0.254597</td>\n",
       "      <td>0.216732</td>\n",
       "      <td>0.202927</td>\n",
       "      <td>0.017586</td>\n",
       "      <td>0.019865</td>\n",
       "      <td>0.005398</td>\n",
       "      <td>0.692308</td>\n",
       "      <td>0.153846</td>\n",
       "      <td>0.153846</td>\n",
       "      <td>0.000000</td>\n",
       "      <td>0.538462</td>\n",
       "    </tr>\n",
       "  </tbody>\n",
       "</table>\n",
       "</div>"
      ],
      "text/plain": [
       "                     PROPOSED_PENALTY    NDL_IR   NFDL_IR        SM     C/100  \\\n",
       "Guassian clustering                                                             \n",
       "0                            0.043365  0.029335  0.005758  0.007461  0.017396   \n",
       "1                            0.113707  0.092023  0.048018  0.111609  0.713369   \n",
       "2                            0.058869  0.254597  0.216732  0.202927  0.017586   \n",
       "\n",
       "                       SS/100     O/100  Kmeans clustering  \\\n",
       "Guassian clustering                                          \n",
       "0                    0.014699  0.014946           0.000000   \n",
       "1                    0.687149  0.406429           1.000000   \n",
       "2                    0.019865  0.005398           0.692308   \n",
       "\n",
       "                     Agglomerative clustering  birch propagation clustering  \\\n",
       "Guassian clustering                                                           \n",
       "0                                    0.014925                      0.014925   \n",
       "1                                    1.000000                      1.000000   \n",
       "2                                    0.153846                      0.153846   \n",
       "\n",
       "                     Spectral clustering  fuzzy clustering  \n",
       "Guassian clustering                                         \n",
       "0                               1.044776          1.761194  \n",
       "1                               0.000000          1.000000  \n",
       "2                               0.000000          0.538462  "
      ]
     },
     "execution_count": 77,
     "metadata": {},
     "output_type": "execute_result"
    }
   ],
   "source": [
    "Table_3.groupby(\"Guassian clustering\").mean()"
   ]
  },
  {
   "cell_type": "code",
   "execution_count": 78,
   "id": "cd3365df",
   "metadata": {},
   "outputs": [
    {
     "data": {
      "text/html": [
       "<div>\n",
       "<style scoped>\n",
       "    .dataframe tbody tr th:only-of-type {\n",
       "        vertical-align: middle;\n",
       "    }\n",
       "\n",
       "    .dataframe tbody tr th {\n",
       "        vertical-align: top;\n",
       "    }\n",
       "\n",
       "    .dataframe thead th {\n",
       "        text-align: right;\n",
       "    }\n",
       "</style>\n",
       "<table border=\"1\" class=\"dataframe\">\n",
       "  <thead>\n",
       "    <tr style=\"text-align: right;\">\n",
       "      <th></th>\n",
       "      <th>PROPOSED_PENALTY</th>\n",
       "      <th>NDL_IR</th>\n",
       "      <th>NFDL_IR</th>\n",
       "      <th>SM</th>\n",
       "      <th>C/100</th>\n",
       "      <th>SS/100</th>\n",
       "      <th>O/100</th>\n",
       "      <th>Kmeans clustering</th>\n",
       "      <th>Agglomerative clustering</th>\n",
       "      <th>Spectral clustering</th>\n",
       "      <th>Guassian clustering</th>\n",
       "      <th>fuzzy clustering</th>\n",
       "    </tr>\n",
       "    <tr>\n",
       "      <th>birch propagation clustering</th>\n",
       "      <th></th>\n",
       "      <th></th>\n",
       "      <th></th>\n",
       "      <th></th>\n",
       "      <th></th>\n",
       "      <th></th>\n",
       "      <th></th>\n",
       "      <th></th>\n",
       "      <th></th>\n",
       "      <th></th>\n",
       "      <th></th>\n",
       "      <th></th>\n",
       "    </tr>\n",
       "  </thead>\n",
       "  <tbody>\n",
       "    <tr>\n",
       "      <th>0</th>\n",
       "      <td>0.048332</td>\n",
       "      <td>0.092600</td>\n",
       "      <td>0.045443</td>\n",
       "      <td>0.044068</td>\n",
       "      <td>0.016021</td>\n",
       "      <td>0.012965</td>\n",
       "      <td>0.004907</td>\n",
       "      <td>0.155556</td>\n",
       "      <td>0.0</td>\n",
       "      <td>0.766667</td>\n",
       "      <td>0.533333</td>\n",
       "      <td>1.444444</td>\n",
       "    </tr>\n",
       "    <tr>\n",
       "      <th>1</th>\n",
       "      <td>0.100179</td>\n",
       "      <td>0.076686</td>\n",
       "      <td>0.040015</td>\n",
       "      <td>0.093007</td>\n",
       "      <td>0.601689</td>\n",
       "      <td>0.598265</td>\n",
       "      <td>0.439881</td>\n",
       "      <td>0.833333</td>\n",
       "      <td>1.0</td>\n",
       "      <td>0.166667</td>\n",
       "      <td>0.833333</td>\n",
       "      <td>1.166667</td>\n",
       "    </tr>\n",
       "    <tr>\n",
       "      <th>2</th>\n",
       "      <td>0.026808</td>\n",
       "      <td>0.125469</td>\n",
       "      <td>0.965478</td>\n",
       "      <td>0.904965</td>\n",
       "      <td>0.068778</td>\n",
       "      <td>0.090291</td>\n",
       "      <td>0.046459</td>\n",
       "      <td>2.000000</td>\n",
       "      <td>2.0</td>\n",
       "      <td>0.000000</td>\n",
       "      <td>2.000000</td>\n",
       "      <td>0.000000</td>\n",
       "    </tr>\n",
       "  </tbody>\n",
       "</table>\n",
       "</div>"
      ],
      "text/plain": [
       "                              PROPOSED_PENALTY    NDL_IR   NFDL_IR        SM  \\\n",
       "birch propagation clustering                                                   \n",
       "0                                     0.048332  0.092600  0.045443  0.044068   \n",
       "1                                     0.100179  0.076686  0.040015  0.093007   \n",
       "2                                     0.026808  0.125469  0.965478  0.904965   \n",
       "\n",
       "                                 C/100    SS/100     O/100  Kmeans clustering  \\\n",
       "birch propagation clustering                                                    \n",
       "0                             0.016021  0.012965  0.004907           0.155556   \n",
       "1                             0.601689  0.598265  0.439881           0.833333   \n",
       "2                             0.068778  0.090291  0.046459           2.000000   \n",
       "\n",
       "                              Agglomerative clustering  Spectral clustering  \\\n",
       "birch propagation clustering                                                  \n",
       "0                                                  0.0             0.766667   \n",
       "1                                                  1.0             0.166667   \n",
       "2                                                  2.0             0.000000   \n",
       "\n",
       "                              Guassian clustering  fuzzy clustering  \n",
       "birch propagation clustering                                         \n",
       "0                                        0.533333          1.444444  \n",
       "1                                        0.833333          1.166667  \n",
       "2                                        2.000000          0.000000  "
      ]
     },
     "execution_count": 78,
     "metadata": {},
     "output_type": "execute_result"
    }
   ],
   "source": [
    "Table_3.groupby(\"birch propagation clustering\").mean()"
   ]
  },
  {
   "cell_type": "code",
   "execution_count": 79,
   "id": "20574e9b",
   "metadata": {},
   "outputs": [
    {
     "data": {
      "text/html": [
       "<div>\n",
       "<style scoped>\n",
       "    .dataframe tbody tr th:only-of-type {\n",
       "        vertical-align: middle;\n",
       "    }\n",
       "\n",
       "    .dataframe tbody tr th {\n",
       "        vertical-align: top;\n",
       "    }\n",
       "\n",
       "    .dataframe thead th {\n",
       "        text-align: right;\n",
       "    }\n",
       "</style>\n",
       "<table border=\"1\" class=\"dataframe\">\n",
       "  <thead>\n",
       "    <tr style=\"text-align: right;\">\n",
       "      <th></th>\n",
       "      <th>PROPOSED_PENALTY</th>\n",
       "      <th>NDL_IR</th>\n",
       "      <th>NFDL_IR</th>\n",
       "      <th>SM</th>\n",
       "      <th>C/100</th>\n",
       "      <th>SS/100</th>\n",
       "      <th>O/100</th>\n",
       "      <th>Kmeans clustering</th>\n",
       "      <th>birch propagation clustering</th>\n",
       "      <th>Spectral clustering</th>\n",
       "      <th>Guassian clustering</th>\n",
       "      <th>fuzzy clustering</th>\n",
       "    </tr>\n",
       "    <tr>\n",
       "      <th>Agglomerative clustering</th>\n",
       "      <th></th>\n",
       "      <th></th>\n",
       "      <th></th>\n",
       "      <th></th>\n",
       "      <th></th>\n",
       "      <th></th>\n",
       "      <th></th>\n",
       "      <th></th>\n",
       "      <th></th>\n",
       "      <th></th>\n",
       "      <th></th>\n",
       "      <th></th>\n",
       "    </tr>\n",
       "  </thead>\n",
       "  <tbody>\n",
       "    <tr>\n",
       "      <th>0</th>\n",
       "      <td>0.048332</td>\n",
       "      <td>0.092600</td>\n",
       "      <td>0.045443</td>\n",
       "      <td>0.044068</td>\n",
       "      <td>0.016021</td>\n",
       "      <td>0.012965</td>\n",
       "      <td>0.004907</td>\n",
       "      <td>0.155556</td>\n",
       "      <td>0.0</td>\n",
       "      <td>0.766667</td>\n",
       "      <td>0.533333</td>\n",
       "      <td>1.444444</td>\n",
       "    </tr>\n",
       "    <tr>\n",
       "      <th>1</th>\n",
       "      <td>0.100179</td>\n",
       "      <td>0.076686</td>\n",
       "      <td>0.040015</td>\n",
       "      <td>0.093007</td>\n",
       "      <td>0.601689</td>\n",
       "      <td>0.598265</td>\n",
       "      <td>0.439881</td>\n",
       "      <td>0.833333</td>\n",
       "      <td>1.0</td>\n",
       "      <td>0.166667</td>\n",
       "      <td>0.833333</td>\n",
       "      <td>1.166667</td>\n",
       "    </tr>\n",
       "    <tr>\n",
       "      <th>2</th>\n",
       "      <td>0.026808</td>\n",
       "      <td>0.125469</td>\n",
       "      <td>0.965478</td>\n",
       "      <td>0.904965</td>\n",
       "      <td>0.068778</td>\n",
       "      <td>0.090291</td>\n",
       "      <td>0.046459</td>\n",
       "      <td>2.000000</td>\n",
       "      <td>2.0</td>\n",
       "      <td>0.000000</td>\n",
       "      <td>2.000000</td>\n",
       "      <td>0.000000</td>\n",
       "    </tr>\n",
       "  </tbody>\n",
       "</table>\n",
       "</div>"
      ],
      "text/plain": [
       "                          PROPOSED_PENALTY    NDL_IR   NFDL_IR        SM  \\\n",
       "Agglomerative clustering                                                   \n",
       "0                                 0.048332  0.092600  0.045443  0.044068   \n",
       "1                                 0.100179  0.076686  0.040015  0.093007   \n",
       "2                                 0.026808  0.125469  0.965478  0.904965   \n",
       "\n",
       "                             C/100    SS/100     O/100  Kmeans clustering  \\\n",
       "Agglomerative clustering                                                    \n",
       "0                         0.016021  0.012965  0.004907           0.155556   \n",
       "1                         0.601689  0.598265  0.439881           0.833333   \n",
       "2                         0.068778  0.090291  0.046459           2.000000   \n",
       "\n",
       "                          birch propagation clustering  Spectral clustering  \\\n",
       "Agglomerative clustering                                                      \n",
       "0                                                  0.0             0.766667   \n",
       "1                                                  1.0             0.166667   \n",
       "2                                                  2.0             0.000000   \n",
       "\n",
       "                          Guassian clustering  fuzzy clustering  \n",
       "Agglomerative clustering                                         \n",
       "0                                    0.533333          1.444444  \n",
       "1                                    0.833333          1.166667  \n",
       "2                                    2.000000          0.000000  "
      ]
     },
     "execution_count": 79,
     "metadata": {},
     "output_type": "execute_result"
    }
   ],
   "source": [
    "Table_3.groupby(\"Agglomerative clustering\").mean()"
   ]
  },
  {
   "cell_type": "code",
   "execution_count": 80,
   "id": "fa84f8c8",
   "metadata": {},
   "outputs": [],
   "source": [
    "# Table_3.groupby(\"optics clustering\").mean()"
   ]
  },
  {
   "cell_type": "code",
   "execution_count": 81,
   "id": "05847a4d",
   "metadata": {},
   "outputs": [],
   "source": [
    "Table_3.to_csv(r\"C:\\Users\\dharm\\OneDrive\\Desktop\\clustering_data.csv\")"
   ]
  },
  {
   "cell_type": "code",
   "execution_count": 82,
   "id": "7969e98a",
   "metadata": {},
   "outputs": [],
   "source": [
    "risk_index_table = Table_3[[\"PROPOSED_PENALTY\",\"NDL_IR\",\"NFDL_IR\",\"SM\",\"C/100\",\"SS/100\",\"O/100\"]]"
   ]
  },
  {
   "cell_type": "code",
   "execution_count": 83,
   "id": "825d1d00",
   "metadata": {},
   "outputs": [
    {
     "data": {
      "text/html": [
       "<div>\n",
       "<style scoped>\n",
       "    .dataframe tbody tr th:only-of-type {\n",
       "        vertical-align: middle;\n",
       "    }\n",
       "\n",
       "    .dataframe tbody tr th {\n",
       "        vertical-align: top;\n",
       "    }\n",
       "\n",
       "    .dataframe thead th {\n",
       "        text-align: right;\n",
       "    }\n",
       "</style>\n",
       "<table border=\"1\" class=\"dataframe\">\n",
       "  <thead>\n",
       "    <tr style=\"text-align: right;\">\n",
       "      <th></th>\n",
       "      <th>PROPOSED_PENALTY</th>\n",
       "      <th>NDL_IR</th>\n",
       "      <th>NFDL_IR</th>\n",
       "      <th>SM</th>\n",
       "      <th>C/100</th>\n",
       "      <th>SS/100</th>\n",
       "      <th>O/100</th>\n",
       "    </tr>\n",
       "    <tr>\n",
       "      <th>MINE_ID</th>\n",
       "      <th></th>\n",
       "      <th></th>\n",
       "      <th></th>\n",
       "      <th></th>\n",
       "      <th></th>\n",
       "      <th></th>\n",
       "      <th></th>\n",
       "    </tr>\n",
       "  </thead>\n",
       "  <tbody>\n",
       "    <tr>\n",
       "      <th>200152.0</th>\n",
       "      <td>0.000191</td>\n",
       "      <td>0.000000</td>\n",
       "      <td>0.000000</td>\n",
       "      <td>0.000000</td>\n",
       "      <td>0.000000</td>\n",
       "      <td>0.000000</td>\n",
       "      <td>0.000000</td>\n",
       "    </tr>\n",
       "    <tr>\n",
       "      <th>200840.0</th>\n",
       "      <td>0.000574</td>\n",
       "      <td>0.000000</td>\n",
       "      <td>0.000000</td>\n",
       "      <td>0.000000</td>\n",
       "      <td>0.000000</td>\n",
       "      <td>0.000000</td>\n",
       "      <td>0.000000</td>\n",
       "    </tr>\n",
       "    <tr>\n",
       "      <th>202286.0</th>\n",
       "      <td>0.047081</td>\n",
       "      <td>0.420219</td>\n",
       "      <td>0.418650</td>\n",
       "      <td>0.036048</td>\n",
       "      <td>0.120069</td>\n",
       "      <td>0.142235</td>\n",
       "      <td>0.000000</td>\n",
       "    </tr>\n",
       "    <tr>\n",
       "      <th>202443.0</th>\n",
       "      <td>0.008546</td>\n",
       "      <td>0.302022</td>\n",
       "      <td>0.000000</td>\n",
       "      <td>0.000000</td>\n",
       "      <td>0.000000</td>\n",
       "      <td>0.000000</td>\n",
       "      <td>0.000000</td>\n",
       "    </tr>\n",
       "    <tr>\n",
       "      <th>202620.0</th>\n",
       "      <td>0.076772</td>\n",
       "      <td>0.169418</td>\n",
       "      <td>0.168785</td>\n",
       "      <td>0.316100</td>\n",
       "      <td>0.519481</td>\n",
       "      <td>0.538462</td>\n",
       "      <td>0.000000</td>\n",
       "    </tr>\n",
       "    <tr>\n",
       "      <th>...</th>\n",
       "      <td>...</td>\n",
       "      <td>...</td>\n",
       "      <td>...</td>\n",
       "      <td>...</td>\n",
       "      <td>...</td>\n",
       "      <td>...</td>\n",
       "      <td>...</td>\n",
       "    </tr>\n",
       "    <tr>\n",
       "      <th>5001267.0</th>\n",
       "      <td>0.172022</td>\n",
       "      <td>0.070896</td>\n",
       "      <td>0.070631</td>\n",
       "      <td>0.016535</td>\n",
       "      <td>0.000000</td>\n",
       "      <td>0.000000</td>\n",
       "      <td>0.000000</td>\n",
       "    </tr>\n",
       "    <tr>\n",
       "      <th>5001544.0</th>\n",
       "      <td>0.113815</td>\n",
       "      <td>0.000000</td>\n",
       "      <td>0.255403</td>\n",
       "      <td>0.132199</td>\n",
       "      <td>0.029174</td>\n",
       "      <td>0.031215</td>\n",
       "      <td>0.013199</td>\n",
       "    </tr>\n",
       "    <tr>\n",
       "      <th>5001614.0</th>\n",
       "      <td>0.000000</td>\n",
       "      <td>0.000000</td>\n",
       "      <td>0.000000</td>\n",
       "      <td>0.000000</td>\n",
       "      <td>0.000000</td>\n",
       "      <td>0.000000</td>\n",
       "      <td>0.000000</td>\n",
       "    </tr>\n",
       "    <tr>\n",
       "      <th>5001642.0</th>\n",
       "      <td>0.102608</td>\n",
       "      <td>0.218903</td>\n",
       "      <td>0.087234</td>\n",
       "      <td>0.131683</td>\n",
       "      <td>0.000000</td>\n",
       "      <td>0.000000</td>\n",
       "      <td>0.000000</td>\n",
       "    </tr>\n",
       "    <tr>\n",
       "      <th>5001857.0</th>\n",
       "      <td>0.001181</td>\n",
       "      <td>0.000000</td>\n",
       "      <td>0.000000</td>\n",
       "      <td>0.000000</td>\n",
       "      <td>0.000000</td>\n",
       "      <td>0.000000</td>\n",
       "      <td>0.000000</td>\n",
       "    </tr>\n",
       "  </tbody>\n",
       "</table>\n",
       "<p>98 rows × 7 columns</p>\n",
       "</div>"
      ],
      "text/plain": [
       "           PROPOSED_PENALTY    NDL_IR   NFDL_IR        SM     C/100    SS/100  \\\n",
       "MINE_ID                                                                         \n",
       "200152.0           0.000191  0.000000  0.000000  0.000000  0.000000  0.000000   \n",
       "200840.0           0.000574  0.000000  0.000000  0.000000  0.000000  0.000000   \n",
       "202286.0           0.047081  0.420219  0.418650  0.036048  0.120069  0.142235   \n",
       "202443.0           0.008546  0.302022  0.000000  0.000000  0.000000  0.000000   \n",
       "202620.0           0.076772  0.169418  0.168785  0.316100  0.519481  0.538462   \n",
       "...                     ...       ...       ...       ...       ...       ...   \n",
       "5001267.0          0.172022  0.070896  0.070631  0.016535  0.000000  0.000000   \n",
       "5001544.0          0.113815  0.000000  0.255403  0.132199  0.029174  0.031215   \n",
       "5001614.0          0.000000  0.000000  0.000000  0.000000  0.000000  0.000000   \n",
       "5001642.0          0.102608  0.218903  0.087234  0.131683  0.000000  0.000000   \n",
       "5001857.0          0.001181  0.000000  0.000000  0.000000  0.000000  0.000000   \n",
       "\n",
       "              O/100  \n",
       "MINE_ID              \n",
       "200152.0   0.000000  \n",
       "200840.0   0.000000  \n",
       "202286.0   0.000000  \n",
       "202443.0   0.000000  \n",
       "202620.0   0.000000  \n",
       "...             ...  \n",
       "5001267.0  0.000000  \n",
       "5001544.0  0.013199  \n",
       "5001614.0  0.000000  \n",
       "5001642.0  0.000000  \n",
       "5001857.0  0.000000  \n",
       "\n",
       "[98 rows x 7 columns]"
      ]
     },
     "execution_count": 83,
     "metadata": {},
     "output_type": "execute_result"
    }
   ],
   "source": [
    "risk_index_table"
   ]
  },
  {
   "cell_type": "code",
   "execution_count": 84,
   "id": "331448a7",
   "metadata": {},
   "outputs": [],
   "source": [
    "risk_index_table_relative_ratio = pd.DataFrame()"
   ]
  },
  {
   "cell_type": "code",
   "execution_count": 85,
   "id": "7b3d8923",
   "metadata": {},
   "outputs": [],
   "source": [
    "risk_index_table_relative_ratio[\"PROPOSED_PENALTY\"] = risk_index_table[\"PROPOSED_PENALTY\"] / risk_index_table[\"PROPOSED_PENALTY\"].sum()\n",
    "risk_index_table_relative_ratio[\"NDL_IR\"] = risk_index_table[\"NDL_IR\"] / risk_index_table[\"NDL_IR\"].sum()\n",
    "risk_index_table_relative_ratio[\"NFDL_IR\"] = risk_index_table[\"NFDL_IR\"] / risk_index_table[\"NFDL_IR\"].sum()\n",
    "risk_index_table_relative_ratio[\"SM\"] = risk_index_table[\"SM\"] / risk_index_table[\"SM\"].sum()\n",
    "risk_index_table_relative_ratio[\"C/100\"]  = risk_index_table[\"C/100\"] / risk_index_table[\"C/100\"].sum()\n",
    "risk_index_table_relative_ratio[\"SS/100\"] = risk_index_table[\"SS/100\"] / risk_index_table[\"SS/100\"].sum()\n",
    "risk_index_table_relative_ratio[\"O/100\"] = risk_index_table[\"O/100\"] / risk_index_table[\"O/100\"].sum()"
   ]
  },
  {
   "cell_type": "code",
   "execution_count": 86,
   "id": "3b1e2e09",
   "metadata": {},
   "outputs": [],
   "source": [
    "risk_index_table_log = risk_index_table_relative_ratio * np.log(risk_index_table_relative_ratio)"
   ]
  },
  {
   "cell_type": "code",
   "execution_count": 87,
   "id": "f8d615a1",
   "metadata": {},
   "outputs": [],
   "source": [
    "# risk_index_table_weightage_factor = pd.DataFrame()"
   ]
  },
  {
   "cell_type": "code",
   "execution_count": 88,
   "id": "e1e8b672",
   "metadata": {},
   "outputs": [
    {
     "data": {
      "text/plain": [
       "-3.287383123177373"
      ]
     },
     "execution_count": 88,
     "metadata": {},
     "output_type": "execute_result"
    }
   ],
   "source": [
    "risk_index_table_log[\"NDL_IR\"].sum()"
   ]
  },
  {
   "cell_type": "code",
   "execution_count": 89,
   "id": "fc2120b1",
   "metadata": {},
   "outputs": [],
   "source": [
    "from numpy import log as ln\n",
    "Penalty_weightage_factor = (-1) / (((ln(33)) * (risk_index_table_log[\"PROPOSED_PENALTY\"].sum())))\n",
    "NDL_IR_weightage_factor = -1 / (((ln(33)) * (risk_index_table_log[\"NDL_IR\"].sum())))\n",
    "NFDL_IR_weightage_factor = -1 / (((ln(33)) * (risk_index_table_log[\"NFDL_IR\"].sum())))\n",
    "SM_weightage_factor = -1 / (((ln(33)) * (risk_index_table_log[\"SM\"].sum())))\n",
    "C_weightage_factor  = -1 / (((ln(33)) * (risk_index_table_log[\"C/100\"].sum())))\n",
    "SS_weightage_factor = -1 / (((ln(33)) * (risk_index_table_log[\"SS/100\"].sum())))\n",
    "O_weightage_factor = -1 / (((ln(33)) * (risk_index_table_log[\"O/100\"].sum())))"
   ]
  },
  {
   "cell_type": "code",
   "execution_count": 90,
   "id": "1fbe5b77",
   "metadata": {},
   "outputs": [
    {
     "data": {
      "text/plain": [
       "0.11177877685925977"
      ]
     },
     "execution_count": 90,
     "metadata": {},
     "output_type": "execute_result"
    }
   ],
   "source": [
    "SS_weightage_factor"
   ]
  },
  {
   "cell_type": "code",
   "execution_count": 91,
   "id": "6ca71a23",
   "metadata": {},
   "outputs": [
    {
     "name": "stderr",
     "output_type": "stream",
     "text": [
      "C:\\Users\\dharm\\AppData\\Local\\Temp/ipykernel_3380/3998883094.py:1: SettingWithCopyWarning: \n",
      "A value is trying to be set on a copy of a slice from a DataFrame.\n",
      "Try using .loc[row_indexer,col_indexer] = value instead\n",
      "\n",
      "See the caveats in the documentation: https://pandas.pydata.org/pandas-docs/stable/user_guide/indexing.html#returning-a-view-versus-a-copy\n",
      "  risk_index_table[\"Risk_Index\"] = (risk_index_table[\"PROPOSED_PENALTY\"] * Penalty_weightage_factor) + (risk_index_table[\"NDL_IR\"] *NDL_IR_weightage_factor) + (risk_index_table[\"NFDL_IR\"]*NFDL_IR_weightage_factor) + (risk_index_table[\"SM\"] *SM_weightage_factor) + (risk_index_table[\"C/100\"] *C_weightage_factor)+ (risk_index_table[\"SS/100\"] *SS_weightage_factor) + (risk_index_table[\"O/100\"]*O_weightage_factor)\n"
     ]
    }
   ],
   "source": [
    "risk_index_table[\"Risk_Index\"] = (risk_index_table[\"PROPOSED_PENALTY\"] * Penalty_weightage_factor) + (risk_index_table[\"NDL_IR\"] *NDL_IR_weightage_factor) + (risk_index_table[\"NFDL_IR\"]*NFDL_IR_weightage_factor) + (risk_index_table[\"SM\"] *SM_weightage_factor) + (risk_index_table[\"C/100\"] *C_weightage_factor)+ (risk_index_table[\"SS/100\"] *SS_weightage_factor) + (risk_index_table[\"O/100\"]*O_weightage_factor)"
   ]
  },
  {
   "cell_type": "code",
   "execution_count": 92,
   "id": "f8e513af",
   "metadata": {},
   "outputs": [],
   "source": [
    "risk_index_table.to_csv(r\"C:\\Users\\dharm\\OneDrive\\Desktop\\risk_index.csv\")"
   ]
  },
  {
   "cell_type": "code",
   "execution_count": null,
   "id": "efbded6d",
   "metadata": {},
   "outputs": [],
   "source": []
  },
  {
   "cell_type": "code",
   "execution_count": null,
   "id": "4a49513d",
   "metadata": {},
   "outputs": [],
   "source": []
  },
  {
   "cell_type": "code",
   "execution_count": null,
   "id": "eec3cc4f",
   "metadata": {},
   "outputs": [],
   "source": []
  }
 ],
 "metadata": {
  "kernelspec": {
   "display_name": "Python 3 (ipykernel)",
   "language": "python",
   "name": "python3"
  },
  "language_info": {
   "codemirror_mode": {
    "name": "ipython",
    "version": 3
   },
   "file_extension": ".py",
   "mimetype": "text/x-python",
   "name": "python",
   "nbconvert_exporter": "python",
   "pygments_lexer": "ipython3",
   "version": "3.9.7"
  }
 },
 "nbformat": 4,
 "nbformat_minor": 5
}
